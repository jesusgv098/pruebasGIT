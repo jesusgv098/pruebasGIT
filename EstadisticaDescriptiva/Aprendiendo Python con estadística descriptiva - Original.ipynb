{
 "cells": [
  {
   "cell_type": "markdown",
   "source": [
    "# Proyecto: Aprendiendo Python con estadística descriptiva"
   ],
   "metadata": {}
  },
  {
   "cell_type": "markdown",
   "source": [
    "## Objetivo:\n",
    "<font size=\"3\">El proyecto consiste en elaborar tablas y gráficas estadísticas a partir de alturas y pesos de deportistas de baloncesto, fútbol, fútbol americano y sumo. Calcularás índices de masas corporales para determinar condiciones de salud y descargarás archivos con datos de promedios de índices de masas corporales de hombres y mujeres para mostrar tendencias mundiales y por países. Durante el proceso aprenderás a usar Jupyter Notebook para editar y ejecutar programas de Python; procesar números en listas, arreglos y tablas; controlar la secuencia de ejecución de los programas; definir tus propias funciones, y utilizar funciones y módulos de las bibliotecas pandas, matplotlib.pyplot y NumPy. Al completar este proyecto podrás comenzar a tabular y graficar datos y estadísticas descriptivas de muestras y poblaciones.\n",
    "\n",
    "</font>\n",
    "<a id='inicio'></a>"
   ],
   "metadata": {}
  },
  {
   "cell_type": "markdown",
   "source": [
    "<font size=\"3\">Tarea</font> | <font size=\"3\">Título</font> | <font size=\"3\">Objetivo</font>\n",
    ":-----: | ------- | -------\n",
    "<font size=\"3\">[1](#tarea1)</font> | <font size=\"3\">**Procesando datos numéricos**</font>| <font size=\"3\">Procesar listas de datos numéricos con objetos y funciones de Python.</font>\n",
    "<font size=\"3\">[2](#tarea2)</font> | <font size=\"3\">**Tabulando datos**</font> | <font size=\"3\">Elaborar tablas de frecuencias.</font>\n",
    "<font size=\"3\">[3](#tarea3)</font> | <font size=\"3\">**Graficando datos**</font> | <font size=\"3\">Mostrar histogramas y gráficos de dos variables.</font>\n",
    "<font size=\"3\">[4](#tarea4)</font> | <font size=\"3\">**Calculando tendencias centrales: medias, medianas y modas**</font> | <font size=\"3\">Calcular promedios, medianas y modas; mostrar barras.</font>\n",
    "<font size=\"3\">[5](#tarea5)</font> | <font size=\"3\">**Calculando dispersiones: rangos, varianzas y desviaciones estándares**</font> | <font size=\"3\">Calcular rangos, rangos intercuartiles, varianzas y desviaciones estándares.</font>\n",
    "<font size=\"3\">[6](#tarea6)</font> | <font size=\"3\">**Comparando índices de masas corporales**</font> | <font size=\"3\">Comparar las condiciones de salud entre deportistas.</font>\n",
    "<font size=\"3\">[7](#tarea7)</font> | <font size=\"3\">**Almacenando y leyendo archivos**</font> | <font size=\"3\">Almacenar y leer archivos de datos; descargar datos de Internet.</font>"
   ],
   "metadata": {}
  },
  {
   "cell_type": "markdown",
   "source": [
    "<a id='tarea1'></a>\r\n",
    "<br><img src=\"linea.png\">\r\n",
    "# [Tarea 1](#inicio)\r\n",
    "# Procesando datos numéricos\r\n",
    "<br><img src=\"linea.png\"><br>"
   ],
   "metadata": {}
  },
  {
   "cell_type": "code",
   "execution_count": null,
   "source": [
    "a = 10\r\n",
    "print(a)"
   ],
   "outputs": [],
   "metadata": {}
  },
  {
   "cell_type": "code",
   "execution_count": null,
   "source": [
    "type(a)     # retorna el tipo del objeto"
   ],
   "outputs": [],
   "metadata": {}
  },
  {
   "cell_type": "markdown",
   "source": [
    "### Expresiones numéricas"
   ],
   "metadata": {}
  },
  {
   "cell_type": "code",
   "execution_count": null,
   "source": [
    "a = 10                  # a es el objeto entero 10\r\n",
    "b = 3 + 4               # b es el objeto entero 7, la suma de 3 y 4\r\n",
    "c = 7 * 2               # c es el objeto entero 14, la multiplicación de 7 y 2\r\n",
    "d = 20 / a              # d es el objeto decimal 2.0, la división decimal de 20 entre 10\r\n",
    "\r\n",
    "print(a, b, c, d)       # muestra los valores de los objetos separados por espacios"
   ],
   "outputs": [],
   "metadata": {}
  },
  {
   "cell_type": "code",
   "execution_count": null,
   "source": [
    "e = 20 // a             # e es el objeto entero 2, la división de 20 entre 10\r\n",
    "f = 20 % b              # f es el objeto entero 6, el residuo de 20 entre 7\r\n",
    "g = 5**3                # g es el objeto entero 125, 5 al cubo\r\n",
    "h = 36 ** 0.5           # h es el objeto decimal 6.0, la raíz cuadrada de 36\r\n",
    "\r\n",
    "print(e, f, g, h)       "
   ],
   "outputs": [],
   "metadata": {}
  },
  {
   "cell_type": "code",
   "execution_count": null,
   "source": [
    "a, b, c, d      # muestra una tupla: valores entre paréntesis y separados por comas"
   ],
   "outputs": [],
   "metadata": {}
  },
  {
   "cell_type": "markdown",
   "source": [
    "### Aproximaciones decimales y la función round"
   ],
   "metadata": {}
  },
  {
   "cell_type": "code",
   "execution_count": null,
   "source": [
    "round(10.456, 2)    # aproximación a dos cifras decimales"
   ],
   "outputs": [],
   "metadata": {}
  },
  {
   "cell_type": "code",
   "execution_count": null,
   "source": [
    "round(10.8)     # aproximación a entero"
   ],
   "outputs": [],
   "metadata": {}
  },
  {
   "cell_type": "code",
   "execution_count": null,
   "source": [
    "0.8 + 0.4       # no resulta en 1.2"
   ],
   "outputs": [],
   "metadata": {}
  },
  {
   "cell_type": "code",
   "execution_count": null,
   "source": [
    "round(0.8 + 0.4, 1)     # redondeo a una cifra decimal"
   ],
   "outputs": [],
   "metadata": {}
  },
  {
   "cell_type": "code",
   "execution_count": null,
   "source": [
    "round(10.45, 1)    # el resultado es correcto (utiliza otro método de redondeo)"
   ],
   "outputs": [],
   "metadata": {}
  },
  {
   "cell_type": "markdown",
   "source": [
    "### Consiguiendo ayuda"
   ],
   "metadata": {}
  },
  {
   "cell_type": "code",
   "execution_count": null,
   "source": [
    "help(round)     # información sobre round"
   ],
   "outputs": [],
   "metadata": {}
  },
  {
   "cell_type": "code",
   "execution_count": null,
   "source": [
    "# información sobre print en ventana aparte\r\n",
    "print?"
   ],
   "outputs": [],
   "metadata": {}
  },
  {
   "cell_type": "markdown",
   "source": [
    "## 1.2 Listas"
   ],
   "metadata": {}
  },
  {
   "cell_type": "code",
   "execution_count": null,
   "source": [
    "lista = [10, b, 'treinta', c + d]   # una lista de cuatro elementos\r\n",
    "print(lista)                        # muestra la lista"
   ],
   "outputs": [],
   "metadata": {}
  },
  {
   "cell_type": "code",
   "execution_count": null,
   "source": [
    "lista[0], lista[1], lista[2], lista[3]   # muestra los elementos"
   ],
   "outputs": [],
   "metadata": {}
  },
  {
   "cell_type": "code",
   "execution_count": null,
   "source": [
    "lista[-1]       # último elemento"
   ],
   "outputs": [],
   "metadata": {}
  },
  {
   "cell_type": "code",
   "execution_count": null,
   "source": [
    "lista[2] = 30   # el elemento en la posición 2 (tercer elemento) es 30\r\n",
    "lista"
   ],
   "outputs": [],
   "metadata": {}
  },
  {
   "cell_type": "markdown",
   "source": [
    "### Método append"
   ],
   "metadata": {}
  },
  {
   "cell_type": "code",
   "execution_count": null,
   "source": [
    "lista.append(1.72)      # agrega el objeto decimal 1.72 a lista\r\n",
    "lista.append(0)         # agrega el objeto entero 0 a lista\r\n",
    "lista"
   ],
   "outputs": [],
   "metadata": {}
  },
  {
   "cell_type": "markdown",
   "source": [
    "### Funciones sum y len"
   ],
   "metadata": {}
  },
  {
   "cell_type": "code",
   "execution_count": null,
   "source": [
    "sum(lista)  # suma de los números en lista"
   ],
   "outputs": [],
   "metadata": {}
  },
  {
   "cell_type": "code",
   "execution_count": null,
   "source": [
    "len(lista)  # número de elementos de lista"
   ],
   "outputs": [],
   "metadata": {}
  },
  {
   "cell_type": "markdown",
   "source": [
    "### Funciones sorted, min y max"
   ],
   "metadata": {}
  },
  {
   "cell_type": "code",
   "execution_count": null,
   "source": [
    "sorted(lista)   # una lista con valores ordenados de menor a mayor"
   ],
   "outputs": [],
   "metadata": {}
  },
  {
   "cell_type": "code",
   "execution_count": null,
   "source": [
    "min(lista), max(lista)  # mínimo y máximo valor de la lista"
   ],
   "outputs": [],
   "metadata": {}
  },
  {
   "cell_type": "markdown",
   "source": [
    "## 1.3 Biblioteca NumPy\n",
    "Procesamiento de vectores y matrices."
   ],
   "metadata": {}
  },
  {
   "cell_type": "code",
   "execution_count": null,
   "source": [
    "import numpy as np"
   ],
   "outputs": [],
   "metadata": {}
  },
  {
   "cell_type": "code",
   "execution_count": null,
   "source": [
    "arreglo = np.array([1, 2, 3, 4])   # arreglo o vector de números\r\n",
    "arreglo"
   ],
   "outputs": [],
   "metadata": {}
  },
  {
   "cell_type": "code",
   "execution_count": null,
   "source": [
    "np.arange(0, 2.1, 0.4)  # un arreglo de números mayores o iguales que 0, \r\n",
    "                        # menores que 2.1 e incrementando en 0.4"
   ],
   "outputs": [],
   "metadata": {}
  },
  {
   "cell_type": "markdown",
   "source": [
    "## 1.4 Sentencia for"
   ],
   "metadata": {}
  },
  {
   "cell_type": "code",
   "execution_count": null,
   "source": [
    "for i in [1, 2.0, '3', 'cuatro']:   # cada objeto de la lista es asignado consecutivamente al objeto i\r\n",
    "    print(i)                            # muestra el valor del objeto (la sentencia comienza con sangría)"
   ],
   "outputs": [],
   "metadata": {}
  },
  {
   "cell_type": "markdown",
   "source": [
    "### Objeto range"
   ],
   "metadata": {}
  },
  {
   "cell_type": "code",
   "execution_count": null,
   "source": [
    "for i in range(-5, 6):  # para cada valor entero de i entre -5 y 5 (el mayor entero menor que 6)\r\n",
    "    print(i, end=' ')       # muestra el valor del objeto i seguido de un espacio"
   ],
   "outputs": [],
   "metadata": {}
  },
  {
   "cell_type": "markdown",
   "source": [
    "## 1.5 Sentencia if"
   ],
   "metadata": {}
  },
  {
   "cell_type": "code",
   "execution_count": null,
   "source": [
    "a = 10      # a es 1\r\n",
    "b = 5       # b es 5\r\n",
    "\r\n",
    "# si a es mayor que b\r\n",
    "    # mostrar que a es mayor que b\r\n",
    "# sino, si los valores son iguales\r\n",
    "    # mostrar que a y b son iguales\r\n",
    "# sino\r\n",
    "    # mostrar que a es menor que b\r\n",
    "\r\n",
    "if a > b:       \r\n",
    "    print(a, \"es mayor que\", b)             # las instrucciones de cada bloque comienzan con sangrías\r\n",
    "elif a == b:\r\n",
    "    print(\"Los números son iguales a\", a)\r\n",
    "else:\r\n",
    "    print(a, \"es menor que\", b)"
   ],
   "outputs": [],
   "metadata": {}
  },
  {
   "cell_type": "markdown",
   "source": [
    "## 1.6 Creación de funciones"
   ],
   "metadata": {}
  },
  {
   "cell_type": "code",
   "execution_count": null,
   "source": [
    "def promedio(lista):        # def nombre(parámetros):\r\n",
    "    \"\"\"\r\n",
    "    Toma una secuencia de números y retorna el promedio.    \r\n",
    "    \"\"\"\r\n",
    "    suma = sum(lista)           # suma de los números en la lista\r\n",
    "    casos = len(lista)          # número de elementos de la lista\r\n",
    "    media = suma / casos        # promedio\r\n",
    "    \r\n",
    "    return media                # retorna el promedio"
   ],
   "outputs": [],
   "metadata": {}
  },
  {
   "cell_type": "code",
   "execution_count": null,
   "source": [
    "p = promedio(lista)\r\n",
    "print(p)"
   ],
   "outputs": [],
   "metadata": {}
  },
  {
   "cell_type": "code",
   "execution_count": null,
   "source": [
    "casos"
   ],
   "outputs": [],
   "metadata": {}
  },
  {
   "cell_type": "code",
   "execution_count": null,
   "source": [
    "help(promedio)"
   ],
   "outputs": [],
   "metadata": {}
  },
  {
   "cell_type": "markdown",
   "source": [
    "## Más información\n",
    "Para cada función y método puedes conseguir ayuda en inglés utilizando **nombre?** o **help(nombre)**\n",
    "```python\n",
    "print, round, list, sum, len, list.append, sorted, min, max, range, dir, type\n",
    "```\n",
    "Para las sentencias **if** y **for**:\n",
    "```python\n",
    "help('for'), help('if')\n",
    "```\n",
    "\n",
    "Para **NumPy** después de ejecutar **import numpy as np**:\n",
    "```python\n",
    "np.*?, dir(np)\n",
    "```\n",
    "También **nombre?** o **help(nombre)** para:\n",
    "```python\n",
    "np.arange, np.array\n",
    "```\n",
    "La función [round](https://docs.python.org/es/3/library/functions.html#round) y [aritmética de punto flotante](https://docs.python.org/es/3/tutorial/floatingpoint.html#tut-fp-issues)"
   ],
   "metadata": {}
  },
  {
   "cell_type": "markdown",
   "source": [
    "<a id='tarea2'></a>\n",
    "<br><img src=\"linea.png\">\n",
    "# [Tarea 2](#inicio)\n",
    "# Tabulando datos\n",
    "<br><img src=\"linea.png\"><br>"
   ],
   "metadata": {}
  },
  {
   "cell_type": "markdown",
   "source": [
    "## 2.1 La biblioteca o módulo Pandas\n",
    "Procesamiento de tablas de datos numéricos y categóricos."
   ],
   "metadata": {}
  },
  {
   "cell_type": "code",
   "execution_count": null,
   "source": [
    "import pandas as pd"
   ],
   "outputs": [],
   "metadata": {}
  },
  {
   "cell_type": "code",
   "execution_count": null,
   "source": [
    "# crea una tabla llamada tabla\r\n",
    "tabla = pd.DataFrame() \r\n",
    "\r\n",
    "# crea una columna numeros \r\n",
    "tabla['numeros'] = [1, 2, 3, 4]         \r\n",
    "\r\n",
    "# columna letras\r\n",
    "tabla['letras'] = ['a', 'b', 'c', 'd']  \r\n",
    "\r\n",
    "tabla"
   ],
   "outputs": [],
   "metadata": {}
  },
  {
   "cell_type": "code",
   "execution_count": null,
   "source": [
    "# muestra la columna numeros\r\n",
    "tabla['numeros']"
   ],
   "outputs": [],
   "metadata": {}
  },
  {
   "cell_type": "code",
   "execution_count": null,
   "source": [
    "# Dataframe: tabla de datos\r\n",
    "# Series: serie de datos\r\n",
    "type(tabla), type(tabla['numeros'])"
   ],
   "outputs": [],
   "metadata": {}
  },
  {
   "cell_type": "code",
   "execution_count": null,
   "source": [
    "# crea una columna cuadrados con los \r\n",
    "# valores de la columna numeros al cuadrado\r\n",
    "tabla['cuadrados'] = tabla['numeros'] ** 2\r\n",
    "\r\n",
    "tabla"
   ],
   "outputs": [],
   "metadata": {}
  },
  {
   "cell_type": "markdown",
   "source": [
    "### Lista de valores acumulados"
   ],
   "metadata": {}
  },
  {
   "cell_type": "code",
   "execution_count": null,
   "source": [
    "acumulados = []     # una lista vacía\r\n",
    "suma = 0            # una suma en cero\r\n",
    "\r\n",
    "for i in tabla['numeros']:  # para cada dato i en la columna de números\r\n",
    "    suma = suma + i             # suma e i se adicionan y el resultado va a suma\r\n",
    "    acumulados.append(suma)     # agrega suma a la lista\r\n",
    "\r\n",
    "acumulados          # visualiza la lista de números acumulados"
   ],
   "outputs": [],
   "metadata": {}
  },
  {
   "cell_type": "code",
   "execution_count": null,
   "source": [
    "# método cumsum de pd.Series\r\n",
    "tabla['numeros'].cumsum()"
   ],
   "outputs": [],
   "metadata": {}
  },
  {
   "cell_type": "code",
   "execution_count": null,
   "source": [
    "# conversión a lista\r\n",
    "tabla['numeros'].cumsum().tolist()"
   ],
   "outputs": [],
   "metadata": {}
  },
  {
   "cell_type": "code",
   "execution_count": null,
   "source": [
    "# nueva columna de tabla con el nombre acumulados\r\n",
    "tabla['acumulados'] = tabla['numeros'].cumsum()\r\n",
    "\r\n",
    "tabla"
   ],
   "outputs": [],
   "metadata": {}
  },
  {
   "cell_type": "markdown",
   "source": [
    "### Alturas y pesos de jugadores de baloncesto\n",
    "Datos extraídos de las páginas de los equipos."
   ],
   "metadata": {}
  },
  {
   "cell_type": "code",
   "execution_count": null,
   "source": [
    "# tabla de alturas y pesos de cuatro equipos de baloncesto\r\n",
    "bucks = pd.DataFrame()\r\n",
    "bucks['alturas'] = [2.11, 2.06, 2.13, 1.85, 1.96, 1.96, 1.93, 1.91, 2.06, 2.01,\r\n",
    "                    2.13, 2.13, 1.8, 1.93, 2.01, 2.01, 2.03, 2.08]\r\n",
    "bucks['pesos'] = [110, 98, 113, 97, 99, 95, 92, 85, 107, 96,\r\n",
    "                  128, 127, 86, 100, 101, 102, 108, 105]\r\n",
    "bucks.index.name = \"Bucks\"\r\n",
    "\r\n",
    "clippers = pd.DataFrame()\r\n",
    "clippers['alturas'] = [1.85, 2.01, 2.03, 2.03, 2.01, 1.91, 2.06, 2.01, 1.96, 1.93,\r\n",
    "                       2.03, 2.03, 2.03, 1.93, 1.85, 2.13]\r\n",
    "clippers['pesos'] = [82, 95, 100, 103, 109, 94, 113, 102, 98, 93,\r\n",
    "                     99, 104, 107, 86, 79, 109]\r\n",
    "clippers.index.name = \"Clippers\"\r\n",
    "\r\n",
    "lakers = pd.DataFrame()\r\n",
    "lakers['alturas'] = [2.08, 1.91, 2.01, 1.96, 1.96, 1.88, 2.08, 2.01, 1.98, 1.93,\r\n",
    "                     2.11, 2.03, 2.06, 2.13, 2.03, 1.85, 1.98, 1.91]\r\n",
    "lakers['pesos'] = [91, 82, 109, 93, 84, 81, 115, 108, 97, 107,\r\n",
    "                   120, 113, 100, 122, 111, 84, 102, 95]\r\n",
    "lakers.index.name = \"Lakers\"\r\n",
    "\r\n",
    "raptors = pd.DataFrame()\r\n",
    "raptors['alturas'] = [2.01, 2.06, 2.01, 1.93, 2.11, 2.08, 1.98, 2.13, 1.98, 1.83,\r\n",
    "                      2.01, 2.01, 1.83, 1.91, 2.06, 1.93, 1.85]\r\n",
    "raptors['pesos'] = [105, 91, 95, 91, 116, 107, 98, 107, 110, 89,\r\n",
    "                    82, 95, 79, 98, 104, 86, 89]\r\n",
    "raptors.index.name = \"Raptors\""
   ],
   "outputs": [],
   "metadata": {}
  },
  {
   "cell_type": "code",
   "execution_count": null,
   "source": [
    "bucks   # tabla de los Bucks"
   ],
   "outputs": [],
   "metadata": {}
  },
  {
   "cell_type": "markdown",
   "source": [
    "## 2.2 Tabla de frecuencias por valores"
   ],
   "metadata": {}
  },
  {
   "cell_type": "code",
   "execution_count": null,
   "source": [
    "lakers['pesos'].count()     # número de datos de la columna de pesos"
   ],
   "outputs": [],
   "metadata": {}
  },
  {
   "cell_type": "code",
   "execution_count": null,
   "source": [
    "tabla = lakers.groupby('pesos').count()     # cuenta las ocurrencias de los pesos\r\n",
    "tabla"
   ],
   "outputs": [],
   "metadata": {}
  },
  {
   "cell_type": "code",
   "execution_count": null,
   "source": [
    "tabla = lakers.groupby('alturas').count()   # cuenta las ocurrencias de las alturas\r\n",
    "tabla"
   ],
   "outputs": [],
   "metadata": {}
  },
  {
   "cell_type": "markdown",
   "source": [
    "## 2.3 Tabla de frecuencias por intervalos"
   ],
   "metadata": {}
  },
  {
   "cell_type": "code",
   "execution_count": null,
   "source": [
    "print(sorted(lakers['pesos']))      # muestra los pesos ordenados de menor a mayor"
   ],
   "outputs": [],
   "metadata": {}
  },
  {
   "cell_type": "markdown",
   "source": [
    "### Intervalos de pesos [80 - 90), [90, 100), [100, 110), [110, 120), [120, 130)"
   ],
   "metadata": {}
  },
  {
   "cell_type": "code",
   "execution_count": null,
   "source": [
    "# filtro para pesos mayores o iguales que 80 y menores que 90\r\n",
    "filtro = (lakers['pesos'] >= 80) & (lakers['pesos'] < 80 + 10) \r\n",
    "\r\n",
    "# una serie de pesos mayores o iguales que 80 y menores que 90\r\n",
    "serie = lakers['pesos'][filtro]\r\n",
    "serie"
   ],
   "outputs": [],
   "metadata": {}
  },
  {
   "cell_type": "code",
   "execution_count": null,
   "source": [
    "# número de pesos en el intervalo [80, 90>\r\n",
    "len(serie)"
   ],
   "outputs": [],
   "metadata": {}
  },
  {
   "cell_type": "markdown",
   "source": [
    "### Lista de números de pesos por intervalos"
   ],
   "metadata": {}
  },
  {
   "cell_type": "code",
   "execution_count": null,
   "source": [
    "lista = []\r\n",
    "\r\n",
    "# para cada peso i desde 80 hasta 120\r\n",
    "for i in [80, 90, 100, 110, 120]:\r\n",
    "    \r\n",
    "    # filtra y cuenta los pesos en el intervalo [i, i + 10)\r\n",
    "    filtro = (lakers['pesos'] >= i) & (lakers['pesos'] < i + 10)\r\n",
    "    serie = lakers['pesos'][filtro]\r\n",
    "    n = len(serie)\r\n",
    "\r\n",
    "    lista.append(n)\r\n",
    "\r\n",
    "lista"
   ],
   "outputs": [],
   "metadata": {}
  },
  {
   "cell_type": "markdown",
   "source": [
    "### Tabla de frecuencias por intervalos"
   ],
   "metadata": {}
  },
  {
   "cell_type": "code",
   "execution_count": null,
   "source": [
    "indices = ['[80 - 90)', '[90, 100)', '[100, 110)', '[110, 120)', '[120, 130)', 'Total']\r\n",
    "\r\n",
    "# crea una tabla con los textos como índices\r\n",
    "pesos_agrupados = pd.DataFrame(index = indices)\r\n",
    "\r\n",
    "# número de datos\r\n",
    "total = len(lakers['pesos'])\r\n",
    "\r\n",
    "# una columna con las frecuencias de ocurrencias más el total\r\n",
    "pesos_agrupados['frecuencia'] = lista + [total]\r\n",
    "\r\n",
    "# el nombre de la columna de índices\r\n",
    "pesos_agrupados.index.name = 'pesos'\r\n",
    "\r\n",
    "pesos_agrupados"
   ],
   "outputs": [],
   "metadata": {}
  },
  {
   "cell_type": "markdown",
   "source": [
    "### Concatenación de textos"
   ],
   "metadata": {}
  },
  {
   "cell_type": "code",
   "execution_count": null,
   "source": [
    "i = 80\r\n",
    "\r\n",
    "# el método str convierte valores de objetos a textos\r\n",
    "indice = '[' + str(i) + ' - ' + str(i + 10) + '>'\r\n",
    "\r\n",
    "indice"
   ],
   "outputs": [],
   "metadata": {}
  },
  {
   "cell_type": "markdown",
   "source": [
    "### Función tabla_de_frecuencias"
   ],
   "metadata": {}
  },
  {
   "cell_type": "code",
   "execution_count": null,
   "source": [
    "def tabla_de_frecuencias(datos, minimo, maximo, intervalo, nombre_del_indice = '', decimales = 2):\r\n",
    "    \"\"\"\r\n",
    "    Retorna una tabla de frecuencias.\r\n",
    "    Recibe una secuencia de datos, un valor inicial, un valor final, un intervalo,\r\n",
    "    un nombre para la columna de índices y el número de decimales de redondeo.\r\n",
    "    \"\"\"\r\n",
    "    \r\n",
    "    cuentas = []    # lista de número de valores en cada intervalo\r\n",
    "    indices = []    # lista de los índices de la tabla\r\n",
    "    \r\n",
    "    # para valores de i desde minimo con incrementos de intervalo y menores que maximo\r\n",
    "    for i in np.arange(minimo, maximo, intervalo): \r\n",
    "        \r\n",
    "        # filtra y cuenta los datos en el intervalo [i, i + 10)\r\n",
    "        filtro = (datos >= i) & (datos < i + intervalo)\r\n",
    "        cuenta = len(datos[filtro])\r\n",
    "        \r\n",
    "        # forma el texto del índice\r\n",
    "        indice = '[' + str(round(i, decimales)) + ', ' + str(round(i + intervalo, decimales)) + ')'\r\n",
    "\r\n",
    "        # agrega el índice y la cuenta de datos\r\n",
    "        indices.append(indice)\r\n",
    "        cuentas.append(cuenta)\r\n",
    "\r\n",
    "    # agrega un índice 'Total'\r\n",
    "    indices.append('Total')\r\n",
    "    # crea una tabla con los índices formados\r\n",
    "    tabla = pd.DataFrame(index = indices)\r\n",
    "    \r\n",
    "    # agrega el total de datos a cuentas\r\n",
    "    cuentas.append(len(datos))\r\n",
    "    # crea una columna con las cuentas\r\n",
    "    tabla['frecuencia'] = cuentas\r\n",
    "    \r\n",
    "    tabla.index.name = nombre_del_indice\r\n",
    "\r\n",
    "    return tabla"
   ],
   "outputs": [],
   "metadata": {}
  },
  {
   "cell_type": "code",
   "execution_count": null,
   "source": [
    "# frecuencias de pesos\r\n",
    "tabla_de_frecuencias(lakers['pesos'], 80, 130, 10, 'pesos (kg)')"
   ],
   "outputs": [],
   "metadata": {}
  },
  {
   "cell_type": "code",
   "execution_count": null,
   "source": [
    "print(sorted(lakers['alturas']))"
   ],
   "outputs": [],
   "metadata": {}
  },
  {
   "cell_type": "code",
   "execution_count": null,
   "source": [
    "# frecuencias de alturas\r\n",
    "tabla_de_frecuencias(lakers['alturas'], 1.85, 2.15, 0.05, 'alturas (m)')"
   ],
   "outputs": [],
   "metadata": {}
  },
  {
   "cell_type": "markdown",
   "source": [
    "## 2.4 Tabla de frecuencias por intervalos con datos acumulados"
   ],
   "metadata": {}
  },
  {
   "cell_type": "code",
   "execution_count": null,
   "source": [
    "def tabla_de_frecuencias(datos, minimo, maximo, intervalo, nombre_del_indice = '', decimales = 2):\r\n",
    "    \"\"\"\r\n",
    "    Retorna una tabla de frecuencias con porcentajes y porcentajes acumulados.\r\n",
    "    Recibe una secuencia de datos, un valor inicial, un valor final, un intervalo,\r\n",
    "    un nombre para la columna de índices y el número de decimales de redondeo.\r\n",
    "    \"\"\"\r\n",
    "    \r\n",
    "    cuentas = []    # lista de número de valores en cada intervalo\r\n",
    "    indices = []    # lista de los índices de la tabla\r\n",
    "    \r\n",
    "    # para valores de i desde minimo con incrementos de intervalo y menores que maximo\r\n",
    "    for i in np.arange(minimo, maximo, intervalo):\r\n",
    "        \r\n",
    "        # filtra y cuenta los datos en el intervalo [i, i + 10)\r\n",
    "        filtro = (datos >= i) & (datos < i + intervalo)\r\n",
    "        cuenta = len(datos[filtro])\r\n",
    "        \r\n",
    "        # forma el texto del índice\r\n",
    "        indice = '[' + str(round(i, decimales)) + ', ' + str(round(i + intervalo, decimales)) + ')'\r\n",
    "        \r\n",
    "        # agrega el índice y la cuenta de datos\r\n",
    "        indices.append(indice)\r\n",
    "        cuentas.append(cuenta)\r\n",
    "\r\n",
    "    # número de datos\r\n",
    "    total = len(datos)\r\n",
    "    \r\n",
    "    # agrega un índice 'Total'\r\n",
    "    indices.append('Total')\r\n",
    "    \r\n",
    "    # crea una tabla con los índices formados\r\n",
    "    tabla = pd.DataFrame(index = indices)\r\n",
    "    \r\n",
    "    # agrega el total de datos a cuentas\r\n",
    "    cuentas.append(total)\r\n",
    "    \r\n",
    "    # crea una columna con las cuentas\r\n",
    "    tabla['frecuencia'] = cuentas\r\n",
    "    \r\n",
    "    # cada valor de la columna 'frecuencia' se divide entre total y se multiplica por 100\r\n",
    "    tabla['porcentajes'] = round(tabla['frecuencia'] / total * 100, decimales)\r\n",
    "    \r\n",
    "    # acumula los valores de porcentajes\r\n",
    "    acumulados = tabla['porcentajes'].cumsum().tolist()\r\n",
    "    \r\n",
    "    # el último valor resulta 200, entonces se fija en 100\r\n",
    "    acumulados[-1] = 100\r\n",
    "    \r\n",
    "    # crea una columna 'acumulados'\r\n",
    "    tabla['acumulados'] = acumulados\r\n",
    "    \r\n",
    "    tabla.index.name = nombre_del_indice\r\n",
    "    \r\n",
    "    return tabla"
   ],
   "outputs": [],
   "metadata": {}
  },
  {
   "cell_type": "code",
   "execution_count": null,
   "source": [
    "tabla_de_frecuencias(lakers['pesos'], 80, 130, 10, 'pesos (kg)')"
   ],
   "outputs": [],
   "metadata": {}
  },
  {
   "cell_type": "code",
   "execution_count": null,
   "source": [
    "tabla_de_frecuencias(lakers['alturas'], 1.85, 2.15, 0.05, 'alturas (kg)', 3)"
   ],
   "outputs": [],
   "metadata": {}
  },
  {
   "cell_type": "markdown",
   "source": [
    "## Más información\n",
    "Después de ejecutar **import pandas as pd**, puedes conseguir ayuda en inglés escribiendo los siguientes textos en una celda seguidos de ? o como argumentos de **help()**:\n",
    "```python\n",
    "pd.DataFrame, pd.Series, pd.Series.cumsum, pd.Series.tolist\n",
    "pd.DataFrame.count, pd.Series.count, pd.Series.groupby\n",
    "```"
   ],
   "metadata": {}
  },
  {
   "cell_type": "markdown",
   "source": [
    "<a id='tarea3'></a>\n",
    "<br><img src=\"linea.png\">\n",
    "# [Tarea 3](#inicio)\n",
    "# Graficando datos\n",
    "<br><img src=\"linea.png\"><br>"
   ],
   "metadata": {}
  },
  {
   "cell_type": "code",
   "execution_count": null,
   "source": [
    "# biblioteca de funciones gráficas\r\n",
    "import matplotlib.pyplot as plt"
   ],
   "outputs": [],
   "metadata": {}
  },
  {
   "cell_type": "markdown",
   "source": [
    "## 3.1 Histogramas\n",
    "Barras de alturas proporcionales a las frecuencias de los datos (representación gráfica de la tabla de frecuencias)."
   ],
   "metadata": {}
  },
  {
   "cell_type": "code",
   "execution_count": null,
   "source": [
    "tabla_de_frecuencias(lakers['pesos'], 80, 130, 10)"
   ],
   "outputs": [],
   "metadata": {}
  },
  {
   "cell_type": "code",
   "execution_count": null,
   "source": [
    "# histograma de pesos con 5 intervalos\r\n",
    "plt.hist(lakers['pesos'], bins = [80, 90, 100, 110, 120, 130]) \r\n",
    "\r\n",
    "# muestra la figura\r\n",
    "plt.show()"
   ],
   "outputs": [],
   "metadata": {}
  },
  {
   "cell_type": "code",
   "execution_count": null,
   "source": [
    "tabla_de_frecuencias(lakers['alturas'], 1.85, 2.15, 0.05, 'alturas (kg)')"
   ],
   "outputs": [],
   "metadata": {}
  },
  {
   "cell_type": "code",
   "execution_count": null,
   "source": [
    "plt.hist(lakers['alturas'],                     # datos del histograma\r\n",
    "         bins = np.arange(1.85, 2.16, 0.05),    # intervalos\r\n",
    "         rwidth = .9)                           # anchura de las barras\r\n",
    "\r\n",
    "# título del gráfico\r\n",
    "plt.title('Alturas en metros de jugadores de baloncesto')  \r\n",
    "\r\n",
    "plt.xlabel('Intervalos')        # etiqueta para las abscisas\r\n",
    "plt.ylabel('Frecuencia')        # etiqueta para las ordenadas\r\n",
    "plt.show()"
   ],
   "outputs": [],
   "metadata": {}
  },
  {
   "cell_type": "markdown",
   "source": [
    "### Histograma de los cuatro equipos"
   ],
   "metadata": {}
  },
  {
   "cell_type": "markdown",
   "source": [
    "#### Listas de tablas, nombres, alturas y pesos por equipos"
   ],
   "metadata": {}
  },
  {
   "cell_type": "code",
   "execution_count": null,
   "source": [
    "lista_de_equipos = [bucks, clippers, lakers, raptors]\r\n",
    "\r\n",
    "lista_de_colores = ['green', 'blue', 'gold', 'red']              # https://en.wikipedia.org/wiki/X11_color_names\r\n",
    "\r\n",
    "lista_de_alturas_por_equipos = []\r\n",
    "lista_de_pesos_por_equipos = []\r\n",
    "lista_de_nombres = []\r\n",
    "\r\n",
    "# para cada equipo en la lista de equipos\r\n",
    "for equipo in lista_de_equipos:\r\n",
    "    \r\n",
    "    # agrega la columna de alturas del equipo\r\n",
    "    lista_de_alturas_por_equipos.append(equipo['alturas'])\r\n",
    "    \r\n",
    "    # agrega la columna de pesos del equipo\r\n",
    "    lista_de_pesos_por_equipos.append(equipo['pesos'])\r\n",
    "    \r\n",
    "    # agrega el nombre del equipo\r\n",
    "    lista_de_nombres.append(equipo.index.name)"
   ],
   "outputs": [],
   "metadata": {}
  },
  {
   "cell_type": "code",
   "execution_count": null,
   "source": [
    "# alturas mínimas y máximas en cada equipo\r\n",
    "for i in lista_de_alturas_por_equipos:\r\n",
    "    print(min(i), max(i))"
   ],
   "outputs": [],
   "metadata": {}
  },
  {
   "cell_type": "code",
   "execution_count": null,
   "source": [
    "plt.hist(lista_de_alturas_por_equipos,           # lista de columnas de alturas\r\n",
    "         bins = np.arange(1.80, 2.16, 0.05),    # límites de los intervalos\r\n",
    "         rwidth = .9,                           # anchura de las barras\r\n",
    "         color = lista_de_colores)\r\n",
    "\r\n",
    "# etiquetas de los equipos\r\n",
    "plt.legend(lista_de_nombres)\r\n",
    "\r\n",
    "plt.title('Alturas en metros de jugadores de baloncesto')\r\n",
    "plt.xlabel('Intervalos')\r\n",
    "plt.ylabel('Frecuencia')\r\n",
    "plt.show()"
   ],
   "outputs": [],
   "metadata": {}
  },
  {
   "cell_type": "code",
   "execution_count": null,
   "source": [
    "# dimensiones de la figura\r\n",
    "plt.figure(figsize=(16, 4))\r\n",
    "\r\n",
    "# para cada índice en la lista de alturas por equipo\r\n",
    "for i in range(len(lista_de_alturas_por_equipos)):\r\n",
    "    \r\n",
    "    # el gráfico i de cuatro gráficas, 1 fila x 4 columnas\r\n",
    "    plt.subplot(141 + i)\r\n",
    "    \r\n",
    "    plt.hist(lista_de_alturas_por_equipos[i], \r\n",
    "             bins=np.arange(1.80, 2.16, 0.05),\r\n",
    "             rwidth=0.9,\r\n",
    "             color=lista_de_colores[i])\r\n",
    "    \r\n",
    "    plt.title(lista_de_nombres[i])\r\n",
    "    \r\n",
    "    # muestra los valores entre 0 y 8 (la mayor frecuencia)\r\n",
    "    plt.ylim(0, 8)\r\n",
    "    \r\n",
    "plt.show()"
   ],
   "outputs": [],
   "metadata": {}
  },
  {
   "cell_type": "markdown",
   "source": [
    "## 3.2 Gráficos de dos variables"
   ],
   "metadata": {}
  },
  {
   "cell_type": "code",
   "execution_count": null,
   "source": [
    "# la función plot recibe las ordenadas y abscisas,\r\n",
    "# y opcionalmente un patrón de trazado\r\n",
    "plt.plot(lakers['alturas'], lakers['pesos'], 'bo')\r\n",
    "\r\n",
    "plt.title('Jugadores de los Lakers')\r\n",
    "plt.xlabel('Alturas')\r\n",
    "plt.ylabel('Pesos')\r\n",
    "plt.grid()              # muestra una grilla\r\n",
    "plt.show()"
   ],
   "outputs": [],
   "metadata": {}
  },
  {
   "cell_type": "code",
   "execution_count": null,
   "source": [
    "lakers.head(3)       # muestra las primeras tres filas de la tabla"
   ],
   "outputs": [],
   "metadata": {}
  },
  {
   "cell_type": "markdown",
   "source": [
    "### Grupo de gráficos"
   ],
   "metadata": {}
  },
  {
   "cell_type": "code",
   "execution_count": null,
   "source": [
    "# alturas y pesos de dos equipos\r\n",
    "plt.plot(lakers['alturas'], lakers['pesos'], color='gold', linestyle='', marker='o')\r\n",
    "plt.plot(bucks['alturas'], bucks['pesos'], color='green', linestyle='', marker='o')\r\n",
    "\r\n",
    "plt.title('Jugadores de baloncesto')\r\n",
    "\r\n",
    "plt.title('Jugadores de baloncesto')\r\n",
    "plt.xlabel('Alturas')\r\n",
    "plt.ylabel('Pesos')\r\n",
    "\r\n",
    "plt.grid()\r\n",
    "plt.show()"
   ],
   "outputs": [],
   "metadata": {}
  },
  {
   "cell_type": "markdown",
   "source": [
    "### Función zip\n",
    "Retorna una secuencia de tuplas con datos de las mismas posiciones de objetos iterables"
   ],
   "metadata": {}
  },
  {
   "cell_type": "code",
   "execution_count": null,
   "source": [
    "for numero, palabra in zip([1, 5, 100], ['uno', 'cinco', 'cien']):\r\n",
    "    print(numero, palabra)"
   ],
   "outputs": [],
   "metadata": {}
  },
  {
   "cell_type": "markdown",
   "source": [
    "### Función pesos_versus_alturas"
   ],
   "metadata": {}
  },
  {
   "cell_type": "code",
   "execution_count": null,
   "source": [
    "def pesos_versus_alturas(lista_de_equipos, lista_de_nombres, lista_de_colores):\r\n",
    "    \"\"\"\r\n",
    "    Muestra un gráfico de pesos versus alturas de los equipos.\r\n",
    "    Recibe una lista de equipos y su respectiva lista de nombres\r\n",
    "    y colores.\r\n",
    "    \"\"\"\r\n",
    "\r\n",
    "    # para cada equipo y color\r\n",
    "    for equipo, color in zip(lista_de_equipos, lista_de_colores):\r\n",
    "        \r\n",
    "        # grafica las columnas de pesos versus las de alturas con el color respectivo\r\n",
    "        plt.plot(equipo['alturas'], equipo['pesos'], color=color, linestyle='', marker='o')\r\n",
    "    \r\n",
    "    plt.legend(lista_de_nombres)\r\n",
    "    plt.title('Pesos versus alturas')\r\n",
    "    plt.xlabel('Alturas') \r\n",
    "    plt.ylabel('Pesos')\r\n",
    "    plt.grid()\r\n",
    "    plt.show()"
   ],
   "outputs": [],
   "metadata": {}
  },
  {
   "cell_type": "code",
   "execution_count": null,
   "source": [
    "pesos_versus_alturas(lista_de_equipos, lista_de_nombres, lista_de_colores) "
   ],
   "outputs": [],
   "metadata": {}
  },
  {
   "cell_type": "markdown",
   "source": [
    "## 3.3 Línea de tendencia o regresión"
   ],
   "metadata": {}
  },
  {
   "cell_type": "markdown",
   "source": [
    "### Método escalar"
   ],
   "metadata": {}
  },
  {
   "cell_type": "code",
   "execution_count": null,
   "source": [
    "# inicialización de datos\r\n",
    "sumaxy = 0          # la suma de los productos de abscisas y ordenadas \r\n",
    "sumax = 0           # la suma de las abscisas\r\n",
    "sumay = 0           # la suma de las ordenadas\r\n",
    "sumax2 = 0          # la suma de los cuadrados de las abscisas\r\n",
    "\r\n",
    "n = len(bucks['alturas'])    # el número de abscisas o de ordenadas\r\n",
    "\r\n",
    "for x, y in zip(bucks['alturas'], bucks['pesos']):      # para cada par de alturas y pesos\r\n",
    "    sumaxy += x * y         # agrega el producto\r\n",
    "    sumax  += x             # agrega x\r\n",
    "    sumay  += y             # agrega y\r\n",
    "    sumax2 += x * x         # agrega el cuadrado de x\r\n",
    "\r\n",
    "# la pendiente de la línea de tendencia\r\n",
    "m = (sumaxy - sumax*sumay/n) / (sumax2 - sumax**2/n)\r\n",
    "\r\n",
    "# el cruce por el eje y\r\n",
    "b = sumay/n - m*sumax/n\r\n",
    "\r\n",
    "print(m, b)"
   ],
   "outputs": [],
   "metadata": {}
  },
  {
   "cell_type": "markdown",
   "source": [
    "### Método vectorial"
   ],
   "metadata": {}
  },
  {
   "cell_type": "code",
   "execution_count": null,
   "source": [
    "x = bucks['alturas']\r\n",
    "y = bucks['pesos']\r\n",
    "\r\n",
    "# datos de tipo numpy.float64\r\n",
    "sumaxy = np.sum(x * y)  # la suma de los productos de cada altura y peso\r\n",
    "sumax = np.sum(x)       # la suma de las alturas\r\n",
    "sumay = np.sum(y)       # la suma de los pesos\r\n",
    "sumax2 = np.sum(x * x)  # la suma de los cuadrados de las alturas\r\n",
    "\r\n",
    "# la pendiente de la línea de tendencia\r\n",
    "m = (n*sumaxy - sumax*sumay) / (n*sumax2 - sumax**2)\r\n",
    "\r\n",
    "# el cruce por el eje y\r\n",
    "b = (sumay - m*sumax)/n\r\n",
    "\r\n",
    "print(m, b)"
   ],
   "outputs": [],
   "metadata": {}
  },
  {
   "cell_type": "markdown",
   "source": [
    "### Función polyfit de NumPy"
   ],
   "metadata": {}
  },
  {
   "cell_type": "code",
   "execution_count": null,
   "source": [
    "# encuentra un polinomio de grado 1 (mx + b)\r\n",
    "mb = np.polyfit(bucks['alturas'], bucks['pesos'], 1)\r\n",
    "mb[0], mb[1]    # pendiente de la recta y cruce por el eje y"
   ],
   "outputs": [],
   "metadata": {}
  },
  {
   "cell_type": "markdown",
   "source": [
    "### Gráfica de la línea de tendencia"
   ],
   "metadata": {}
  },
  {
   "cell_type": "code",
   "execution_count": null,
   "source": [
    "# extremos de los datos\r\n",
    "x = np.array([min(bucks['alturas']), max(bucks['alturas'])])\r\n",
    "\r\n",
    "# las ordenadas de los extremos\r\n",
    "y = m*x + b \r\n",
    "\r\n",
    "# dos pares de puntos unidos por línea azul\r\n",
    "plt.plot(x, y, 'b-') \r\n",
    "\r\n",
    "# datos de alturas y pesos\r\n",
    "plt.plot(bucks['alturas'], bucks['pesos'], 'bo')\r\n",
    "\r\n",
    "plt.grid()\r\n",
    "plt.show()"
   ],
   "outputs": [],
   "metadata": {}
  },
  {
   "cell_type": "code",
   "execution_count": null,
   "source": [
    "def pesos_versus_alturas(lista_de_equipos, lista_de_nombres, lista_de_colores):\r\n",
    "    \"\"\"\r\n",
    "    Muestra un gráfico de pesos versus alturas de los equipos con sus\r\n",
    "    líneas de tendencias.\r\n",
    "    Recibe una lista de equipos y su respectiva lista de nombres\r\n",
    "    y colores.\r\n",
    "    \"\"\"\r\n",
    "\r\n",
    "    # para cada equipo y color\r\n",
    "    for equipo, color in zip(lista_de_equipos, lista_de_colores):\r\n",
    "        \r\n",
    "        # grafica las columnas de pesos versus las de alturas con el color respectivo\r\n",
    "        plt.plot(equipo['alturas'], equipo['pesos'], color=color, linestyle='', marker='o')\r\n",
    "    \r\n",
    "    plt.legend(lista_de_nombres)\r\n",
    "    \r\n",
    "    \r\n",
    "    for equipo, color in zip(lista_de_equipos, lista_de_colores):\r\n",
    "\r\n",
    "        # obtiene los parámetros de la línea de tendencia\r\n",
    "        parametros = np.polyfit(equipo['alturas'], equipo['pesos'], 1)\r\n",
    "        m, b = parametros[0], parametros[1]\r\n",
    "\r\n",
    "        # extremos de la línea de tendencia\r\n",
    "        x = np.array([min(equipo['alturas']), max(equipo['alturas'])])\r\n",
    "\r\n",
    "        # las ordenadas de los extremos\r\n",
    "        y = m*x + b \r\n",
    "\r\n",
    "        # dibuja la línea de tendencia\r\n",
    "        plt.plot(x, y, color = color, linestyle = '-', marker = '')\r\n",
    "\r\n",
    "\r\n",
    "    plt.title('Pesos versus alturas')\r\n",
    "    plt.xlabel('Alturas') \r\n",
    "    plt.ylabel('Pesos')\r\n",
    "    plt.grid()\r\n",
    "    plt.show()"
   ],
   "outputs": [],
   "metadata": {}
  },
  {
   "cell_type": "code",
   "execution_count": null,
   "source": [
    "pesos_versus_alturas(lista_de_equipos, lista_de_nombres, lista_de_colores)"
   ],
   "outputs": [],
   "metadata": {}
  },
  {
   "cell_type": "markdown",
   "source": [
    "## Más información\n",
    "Después de ejecutar **import matplotlib.pyplot as plt**, puedes conseguir ayuda en inglés escribiendo los siguientes textos en una celda seguidos de ? o como argumentos de **help()**:\n",
    "```python\n",
    "plt.hist, plt.show, plt.title, plt.xlabel, plt.ylabel, plt.grid, plt.legend\n",
    "plt.subplot, plt.yticks, plt.ylim\n",
    "\n",
    "pd.Series.iloc, pd.DataFrame.iloc, pd.DataFrame.hist, pd.DataFrame.plot.hist\n",
    "pd.DataFrame.head, pd.Series.head\n",
    "\n",
    "zip\n",
    "\n",
    "np.sum, np.polyfit\n",
    "```"
   ],
   "metadata": {}
  },
  {
   "cell_type": "markdown",
   "source": [
    "<a id='tarea4'></a>\n",
    "<br><img src=\"linea.png\">\n",
    "# [Tarea 4](#inicio)\n",
    "# Calculando tendencias centrales: medias, medianas y modas\n",
    "<br><img src=\"linea.png\"><br>"
   ],
   "metadata": {}
  },
  {
   "cell_type": "markdown",
   "source": [
    "## 4.1 Media\n",
    "El promedio de una lista de valores o datos."
   ],
   "metadata": {}
  },
  {
   "cell_type": "code",
   "execution_count": null,
   "source": [
    "suma = 0    # acumulador\r\n",
    "n = 0       # contador\r\n",
    "\r\n",
    "# suma y cuenta cada altura de los Clippers\r\n",
    "for altura in clippers['alturas']:\r\n",
    "    suma = suma + altura\r\n",
    "    n = n + 1\r\n",
    "\r\n",
    "# divide la suma de las alturas\r\n",
    "# entre el número de alturas\r\n",
    "promedio = suma / n\r\n",
    "\r\n",
    "print(promedio)"
   ],
   "outputs": [],
   "metadata": {}
  },
  {
   "cell_type": "code",
   "execution_count": null,
   "source": [
    "# media con funciones sum y len\r\n",
    "sum(clippers['alturas']) / len(clippers['alturas'])"
   ],
   "outputs": [],
   "metadata": {}
  },
  {
   "cell_type": "code",
   "execution_count": null,
   "source": [
    "# media con función mean de NumPy\r\n",
    "np.mean(clippers['alturas'])"
   ],
   "outputs": [],
   "metadata": {}
  },
  {
   "cell_type": "code",
   "execution_count": null,
   "source": [
    "# media con el método mean de Series (pandas)\r\n",
    "clippers['alturas'].mean()"
   ],
   "outputs": [],
   "metadata": {}
  },
  {
   "cell_type": "markdown",
   "source": [
    "### Tabla de promedios de alturas"
   ],
   "metadata": {}
  },
  {
   "cell_type": "code",
   "execution_count": null,
   "source": [
    "promedios_de_alturas = pd.DataFrame(index = lista_de_nombres)\r\n",
    "promedios_de_alturas.index.name = 'Equipos'\r\n",
    "\r\n",
    "datos = []\r\n",
    "for alturas_de_un_equipo in lista_de_alturas_por_equipos:\r\n",
    "    datos.append(round(np.mean(alturas_de_un_equipo), 2))\r\n",
    "\r\n",
    "promedios_de_alturas['Promedios de alturas'] = datos\r\n",
    "promedios_de_alturas"
   ],
   "outputs": [],
   "metadata": {}
  },
  {
   "cell_type": "markdown",
   "source": [
    "## 4.2 Barras"
   ],
   "metadata": {}
  },
  {
   "cell_type": "markdown",
   "source": [
    "### Barras verticales"
   ],
   "metadata": {}
  },
  {
   "cell_type": "code",
   "execution_count": null,
   "source": [
    "indices = range(len(datos)) # posiciones de las barras: 0, 1, 2, 3\r\n",
    "\r\n",
    "# dibuja barras verticales en las posiciones indicadas por el rango indices\r\n",
    "# con alturas dadas por los elementos de la lista datos\r\n",
    "plt.bar(indices, datos)\r\n",
    "\r\n",
    "plt.xlabel('Equipos')\r\n",
    "plt.ylabel('Valores')\r\n",
    "plt.title('Promedios de alturas (m)')\r\n",
    "\r\n",
    "# etiqueta las posiciones con los nombres de los equipos\r\n",
    "plt.xticks(indices, lista_de_nombres)\r\n",
    "\r\n",
    "plt.show()"
   ],
   "outputs": [],
   "metadata": {}
  },
  {
   "cell_type": "markdown",
   "source": [
    "### Barras horizontales"
   ],
   "metadata": {}
  },
  {
   "cell_type": "code",
   "execution_count": null,
   "source": [
    "datos = []\r\n",
    "for pesos_de_un_equipo in lista_de_pesos_por_equipos:\r\n",
    "    datos.append(round(np.mean(pesos_de_un_equipo), 2))\r\n",
    "\r\n",
    "plt.barh(indices, datos, color='darkgreen')        # barh\r\n",
    "plt.xlabel('Valores')\r\n",
    "plt.ylabel('Equipos')\r\n",
    "plt.yticks(indices, lista_de_nombres)    # los nombres en el eje de ordenadas\r\n",
    "\r\n",
    "plt.title('Promedios de pesos (kg)')\r\n",
    "plt.show()"
   ],
   "outputs": [],
   "metadata": {}
  },
  {
   "cell_type": "markdown",
   "source": [
    "## 4.3 Mediana\n",
    "El valor o dato central de una lista de datos."
   ],
   "metadata": {}
  },
  {
   "cell_type": "markdown",
   "source": [
    "### Algoritmo\n",
    "```python\n",
    "Ordenar los datos de menor a mayor\n",
    "Si el número de datos es impar\n",
    "    retornar el número central\n",
    "Sino\n",
    "    retornar el promedio de los dos números centrales\n",
    "```\n",
    "\n",
    "```python\n",
    "Caso 1:\n",
    "11 elementos = 5 + 1 + 5\n",
    "índices:    0..4   5   6..11\n",
    "5 = (11 - 1) // 2\n",
    "```\n",
    "\n",
    "```python\n",
    "Caso 2:\n",
    "12 elementos = 5 + 1 + 1 + 5\n",
    "índices:    0..4   5   6   7..12\n",
    "5 = 12 // 2 - 1\n",
    "6 = 12 // 2\n",
    "```"
   ],
   "metadata": {}
  },
  {
   "cell_type": "code",
   "execution_count": null,
   "source": [
    "lista = sorted(raptors['alturas'])\r\n",
    "n = len(lista)\r\n",
    "\r\n",
    "# si el residuo del número entre 2 es cero\r\n",
    "if n % 2 == 0:  # n es par\r\n",
    "    # división entera con //\r\n",
    "    mediana = (lista[n//2 - 1] + lista[n//2]) / 2\r\n",
    "# sino\r\n",
    "else:           # n es impar\r\n",
    "    mediana = lista[(n - 1)//2]\r\n",
    "\r\n",
    "print(mediana)"
   ],
   "outputs": [],
   "metadata": {}
  },
  {
   "cell_type": "code",
   "execution_count": null,
   "source": [
    "# mediana con la función median de NumPy\r\n",
    "np.median(raptors['alturas'])"
   ],
   "outputs": [],
   "metadata": {}
  },
  {
   "cell_type": "code",
   "execution_count": null,
   "source": [
    "# mediana con el método median de Series\r\n",
    "raptors['alturas'].median()"
   ],
   "outputs": [],
   "metadata": {}
  },
  {
   "cell_type": "markdown",
   "source": [
    "## 4.4 Barras emparejadas"
   ],
   "metadata": {}
  },
  {
   "cell_type": "code",
   "execution_count": null,
   "source": [
    "indices = np.arange(len(lista_de_equipos))\r\n",
    "anchura = 0.4\r\n",
    "\r\n",
    "# la suma de un arreglo con escalar\r\n",
    "# aplica el escalar a cada elemento del arreglo\r\n",
    "indices, indices + anchura"
   ],
   "outputs": [],
   "metadata": {}
  },
  {
   "cell_type": "code",
   "execution_count": null,
   "source": [
    "promedios = []\r\n",
    "medianas = []\r\n",
    "\r\n",
    "for alturas_por_equipo in lista_de_alturas_por_equipos:\r\n",
    "    promedios.append(round(alturas_por_equipo.mean(), 2))\r\n",
    "    medianas.append(round(alturas_por_equipo.median(), 2))\r\n",
    "\r\n",
    "plt.bar(indices, promedios, anchura)                # centros de las barras de promedios\r\n",
    "plt.bar(indices + anchura, medianas, anchura)       # centros de las barras de medianas\r\n",
    "\r\n",
    "plt.xlabel('Equipos')\r\n",
    "plt.ylabel('Valores')\r\n",
    "plt.title('Promedios y medianas de alturas')\r\n",
    "plt.xticks(indices + anchura/2, lista_de_nombres)            # posiciones de los nombres\r\n",
    "plt.legend(['Promedios', 'Medianas'], loc='lower center')\r\n",
    "\r\n",
    "plt.show()"
   ],
   "outputs": [],
   "metadata": {}
  },
  {
   "cell_type": "markdown",
   "source": [
    "## 4.5 Moda\n",
    "El valor o los valores que más aparecen en una colección de datos."
   ],
   "metadata": {}
  },
  {
   "cell_type": "code",
   "execution_count": null,
   "source": [
    "sorted(clippers['pesos'])"
   ],
   "outputs": [],
   "metadata": {}
  },
  {
   "cell_type": "code",
   "execution_count": null,
   "source": [
    "clippers.groupby('pesos').count()"
   ],
   "outputs": [],
   "metadata": {}
  },
  {
   "cell_type": "code",
   "execution_count": null,
   "source": [
    "# moda de pesos de los Clippers con el método mode de Series (pd.Series.mode)\r\n",
    "clippers['pesos'].mode()"
   ],
   "outputs": [],
   "metadata": {}
  },
  {
   "cell_type": "code",
   "execution_count": null,
   "source": [
    "# modas de alturas de los Lakers\r\n",
    "lakers.groupby('alturas').count()"
   ],
   "outputs": [],
   "metadata": {}
  },
  {
   "cell_type": "code",
   "execution_count": null,
   "source": [
    "lakers['alturas'].mode()"
   ],
   "outputs": [],
   "metadata": {}
  },
  {
   "cell_type": "markdown",
   "source": [
    "## Más información\n",
    "Después de ejecutar **import matplotlib.pyplot as plt**, puedes conseguir ayuda en inglés escribiendo los siguientes textos en una celda seguidos de ? o como argumentos de help():\n",
    "```python\n",
    "plt.bar, plt.barh, plt.xticks\n",
    "\n",
    "pd.Series.mean, pd.Series.median, pd.Series.mode\n",
    "\n",
    "np.mean, np.median\n",
    "```"
   ],
   "metadata": {}
  },
  {
   "cell_type": "markdown",
   "source": [
    "<a id='tarea5'></a>\n",
    "<br><img src=\"linea.png\">\n",
    "# [Tarea 5](#inicio)\n",
    "# Calculando dispersiones: rangos, varianzas y desviaciones estándares\n",
    "<br><img src=\"linea.png\"><br>"
   ],
   "metadata": {}
  },
  {
   "cell_type": "markdown",
   "source": [
    "## 5.1 Rango\n",
    "La diferencia entre el valor máximo y el valor mínimo de los datos."
   ],
   "metadata": {}
  },
  {
   "cell_type": "code",
   "execution_count": null,
   "source": [
    "# rango de pesos de los jugadores de los Raptors\r\n",
    "max(raptors['pesos']) - min(raptors['pesos'])"
   ],
   "outputs": [],
   "metadata": {}
  },
  {
   "cell_type": "code",
   "execution_count": null,
   "source": [
    "# rangos de pesos de los cuatro equipos\r\n",
    "\r\n",
    "tabla = pd.DataFrame(index = lista_de_nombres)\r\n",
    "tabla.index.name = 'equipos'\r\n",
    "\r\n",
    "minimos = []\r\n",
    "maximos = []\r\n",
    "rangos = []\r\n",
    "\r\n",
    "# para cada pesos por equipo\r\n",
    "for pesos_por_equipo in lista_de_pesos_por_equipos:\r\n",
    "    # agrega los valores mínimos y máximos\r\n",
    "    minimo = min(pesos_por_equipo)\r\n",
    "    maximo = max(pesos_por_equipo)\r\n",
    "    minimos.append(minimo)\r\n",
    "    maximos.append(maximo)\r\n",
    "    \r\n",
    "    # agrega el rango\r\n",
    "    rangos.append(maximo - minimo)\r\n",
    "\r\n",
    "# crea columnas de mínimos, máximos y rangos\r\n",
    "tabla['pesos mínimos'] = minimos\r\n",
    "tabla['pesos máximos'] = maximos\r\n",
    "tabla['rangos de pesos'] = rangos\r\n",
    "\r\n",
    "tabla"
   ],
   "outputs": [],
   "metadata": {}
  },
  {
   "cell_type": "markdown",
   "source": [
    "## 5.2 Rango intercuartil\n",
    "La diferencia entre el dato del tercer cuartil y el dato del primer cuartil."
   ],
   "metadata": {}
  },
  {
   "cell_type": "code",
   "execution_count": null,
   "source": [
    "datos = sorted(bucks['pesos'])\r\n",
    "print(datos)\r\n",
    "print(len(datos))"
   ],
   "outputs": [],
   "metadata": {}
  },
  {
   "cell_type": "code",
   "execution_count": null,
   "source": [
    "# primer cuartil, interpolación lineal\r\n",
    "x = (len(datos) - 1) * 0.25\r\n",
    "\r\n",
    "# el valor entero de x marca la posición del dato en el primer cuartil\r\n",
    "# la parte decimal sirve para interpolar un dato entre la posición entera y la siguiente\r\n",
    "i = int(x)\r\n",
    "d = x - int(x)\r\n",
    "i, d"
   ],
   "outputs": [],
   "metadata": {}
  },
  {
   "cell_type": "code",
   "execution_count": null,
   "source": [
    "q1 = datos[i] + d*(datos[i + 1] - datos[i])\r\n",
    "q1"
   ],
   "outputs": [],
   "metadata": {}
  },
  {
   "cell_type": "code",
   "execution_count": null,
   "source": [
    "# cuartiles con pandas, retorna un objeto Series\r\n",
    "bucks['pesos'].quantile([0.25, 0.5, 0.75])"
   ],
   "outputs": [],
   "metadata": {}
  },
  {
   "cell_type": "code",
   "execution_count": null,
   "source": [
    "# cuartiles con NumPy, retorna una lista\r\n",
    "np.quantile(bucks['pesos'], [0.25, 0.50, 0.75])"
   ],
   "outputs": [],
   "metadata": {}
  },
  {
   "cell_type": "code",
   "execution_count": null,
   "source": [
    "# rangos intercuartiles\r\n",
    "rangos_intercuartiles = []\r\n",
    "\r\n",
    "for pesos_por_equipo in lista_de_pesos_por_equipos:\r\n",
    "    q = np.quantile(pesos_por_equipo, [0.25, 0.75])\r\n",
    "    rangos_intercuartiles.append(q[1] - q[0])\r\n",
    "\r\n",
    "tabla['rangos intercuartiles'] = rangos_intercuartiles\r\n",
    "\r\n",
    "tabla"
   ],
   "outputs": [],
   "metadata": {}
  },
  {
   "cell_type": "markdown",
   "source": [
    "### El método describe"
   ],
   "metadata": {}
  },
  {
   "cell_type": "code",
   "execution_count": null,
   "source": [
    "raptors.describe()"
   ],
   "outputs": [],
   "metadata": {}
  },
  {
   "cell_type": "markdown",
   "source": [
    "## 5.3 Diagramas de cajas"
   ],
   "metadata": {}
  },
  {
   "cell_type": "code",
   "execution_count": null,
   "source": [
    "# muestra un diagrama de caja (caja y bigotes)\r\n",
    "plt.boxplot(raptors['pesos'])\r\n",
    "\r\n",
    "plt.grid()\r\n",
    "plt.show()"
   ],
   "outputs": [],
   "metadata": {}
  },
  {
   "cell_type": "markdown",
   "source": [
    "### Comparación de pesos"
   ],
   "metadata": {}
  },
  {
   "cell_type": "code",
   "execution_count": null,
   "source": [
    "# diagramas de caja de los pesos por equipo \r\n",
    "plt.boxplot(lista_de_pesos_por_equipos)\r\n",
    "\r\n",
    "# etiqueta el eje x con los nombres\r\n",
    "plt.xticks(range(1, len(lista_de_nombres) + 1), lista_de_nombres)\r\n",
    "\r\n",
    "plt.title('Comparación de pesos')\r\n",
    "plt.grid()\r\n",
    "plt.show()"
   ],
   "outputs": [],
   "metadata": {}
  },
  {
   "cell_type": "code",
   "execution_count": null,
   "source": [
    "bucks[bucks['pesos'] > 120]     # los casos estadísticos atípicos de los Bucks"
   ],
   "outputs": [],
   "metadata": {}
  },
  {
   "cell_type": "markdown",
   "source": [
    "### Comparación de alturas"
   ],
   "metadata": {}
  },
  {
   "cell_type": "code",
   "execution_count": null,
   "source": [
    "plt.boxplot(lista_de_alturas_por_equipos)\r\n",
    "\r\n",
    "plt.xticks(np.arange(len(lista_de_nombres)) + 1, lista_de_nombres)\r\n",
    "plt.grid()\r\n",
    "plt.show()"
   ],
   "outputs": [],
   "metadata": {}
  },
  {
   "cell_type": "markdown",
   "source": [
    "## 5.4 Valores atípicos\n",
    "Los valores fuera del intervalo [Q1 - 1.5 IQR, Q3 + 1.5 IQR]"
   ],
   "metadata": {}
  },
  {
   "cell_type": "code",
   "execution_count": null,
   "source": [
    "# retorna una serie con el valor mínimo, \r\n",
    "# los cuartiles Q1, Q2 y Q3, y el valor máximo.\r\n",
    "dato = bucks['pesos'].quantile([0, 0.25, 0.5, 0.75, 1])\r\n",
    "\r\n",
    "# rango intercuartil\r\n",
    "iqr = dato[0.75] - dato[0.25]\r\n",
    "\r\n",
    "m = dato[0.25] - 1.5*iqr    # límite superior de valores atípicos menores\r\n",
    "n = dato[0.75] + 1.5*iqr    # límite inferior de valores atípicos mayores\r\n",
    "\r\n",
    "print(m, n)\r\n",
    "print(sorted(bucks['pesos']))"
   ],
   "outputs": [],
   "metadata": {}
  },
  {
   "cell_type": "markdown",
   "source": [
    "## 5.5 Varianza"
   ],
   "metadata": {}
  },
  {
   "cell_type": "code",
   "execution_count": null,
   "source": [
    "x = clippers['alturas']\r\n",
    "N = len(x)  # número de datos\r\n",
    "\r\n",
    "# varianza de una población\r\n",
    "varianza = sum((x - np.mean(x))**2) / N\r\n",
    "print('Varianza de población:', varianza)\r\n",
    "\r\n",
    "# varianza de una muestra\r\n",
    "varianza = sum((x - np.mean(x))**2) / (N - 1)\r\n",
    "print('Varianza de muestra:  ', varianza)"
   ],
   "outputs": [],
   "metadata": {}
  },
  {
   "cell_type": "markdown",
   "source": [
    "## 5.6 Desviación estándar"
   ],
   "metadata": {}
  },
  {
   "cell_type": "markdown",
   "source": [
    "### Desviación estándar de una población"
   ],
   "metadata": {}
  },
  {
   "cell_type": "code",
   "execution_count": null,
   "source": [
    "x = clippers['alturas']\r\n",
    "N = len(x)  # número de datos\r\n",
    "\r\n",
    "# varianza de una población\r\n",
    "varianza = sum((x - np.mean(x))**2) / N\r\n",
    "desviacion_estandar = varianza**0.5\r\n",
    "print('Desviación estándar de población:', desviacion_estandar)\r\n",
    "\r\n",
    "# varianza de una muestra\r\n",
    "varianza = sum((x - np.mean(x))**2) / (N - 1)\r\n",
    "desviacion_estandar = np.sqrt(varianza)\r\n",
    "print('Desviación estándar de muestra:  ', desviacion_estandar)"
   ],
   "outputs": [],
   "metadata": {}
  },
  {
   "cell_type": "code",
   "execution_count": null,
   "source": [
    "# desviación estándar de una población con pandas\r\n",
    "clippers['alturas'].std(ddof = 0)       # el denominador es N - ddof"
   ],
   "outputs": [],
   "metadata": {}
  },
  {
   "cell_type": "code",
   "execution_count": null,
   "source": [
    "# desviación estándar de una población con NumPy\r\n",
    "np.std(clippers['alturas'])"
   ],
   "outputs": [],
   "metadata": {}
  },
  {
   "cell_type": "code",
   "execution_count": null,
   "source": [
    "# desviación estándar de una muestra con pandas\r\n",
    "clippers['alturas'].std()         # el denominador es N - ddof, ddof es 1 por defecto"
   ],
   "outputs": [],
   "metadata": {}
  },
  {
   "cell_type": "code",
   "execution_count": null,
   "source": [
    "# desviación estándar de una muestra con NumPy\r\n",
    "np.std(clippers['alturas'], ddof = 1)  # # el denominador es N - ddof, ddof es 0 por defecto"
   ],
   "outputs": [],
   "metadata": {}
  },
  {
   "cell_type": "code",
   "execution_count": null,
   "source": [
    "# varianzas de pesos y alturas en los equipos\r\n",
    "\r\n",
    "tabla = pd.DataFrame(index = lista_de_nombres)\r\n",
    "tabla.index.name = 'equipos'\r\n",
    "\r\n",
    "poblaciones = []\r\n",
    "muestras = []\r\n",
    "\r\n",
    "for alturas_por_equipo in lista_de_alturas_por_equipos:\r\n",
    "    poblaciones.append(np.std(alturas_por_equipo))\r\n",
    "    muestras.append(np.std(alturas_por_equipo, ddof = 1))\r\n",
    "        \r\n",
    "tabla['variancia de población'] = poblaciones\r\n",
    "tabla['variancia de muestra'] = muestras\r\n",
    "\r\n",
    "tabla"
   ],
   "outputs": [],
   "metadata": {}
  },
  {
   "cell_type": "markdown",
   "source": [
    "### Regla 68 95 99.7"
   ],
   "metadata": {}
  },
  {
   "cell_type": "code",
   "execution_count": null,
   "source": [
    "## desviación estándar de una muestra\n",
    "s = np.std(bucks['alturas'], ddof = 1)\n",
    "m = np.mean(bucks['alturas'])\n",
    "bucks[abs(bucks['alturas'] - m) <= s] "
   ],
   "outputs": [],
   "metadata": {}
  },
  {
   "cell_type": "code",
   "execution_count": null,
   "source": [
    "p68 = len(bucks[abs(bucks['alturas'] - m) <=   s]) / len(bucks)\n",
    "p95 = len(bucks[abs(bucks['alturas'] - m) <= 2*s]) / len(bucks)\n",
    "p99 = len(bucks[abs(bucks['alturas'] - m) <= 3*s]) / len(bucks)\n",
    "p68, p95, p99"
   ],
   "outputs": [],
   "metadata": {}
  },
  {
   "cell_type": "markdown",
   "source": [
    "## Más información\n",
    "Puedes conseguir ayuda en inglés escribiendo los siguientes textos en una celda seguidos de ? o como argumentos de help():\n",
    "```python\n",
    "plt.boxplot\n",
    "\n",
    "pd.Series., pd.Series.std\n",
    "\n",
    "np.sqrt, np.quantile\n",
    "```"
   ],
   "metadata": {}
  },
  {
   "cell_type": "markdown",
   "source": [
    "<a id='tarea6'></a>\n",
    "<br><img src=\"linea.png\">\n",
    "# [Tarea 6](#inicio)\n",
    "# Comparando índices de masas corporales\n",
    "<br><img src=\"linea.png\"><br>"
   ],
   "metadata": {}
  },
  {
   "cell_type": "markdown",
   "source": [
    "## 6.1 Índice de masa corporal (IMC)\n",
    "El peso dividido entre el cuadrado de la altura"
   ],
   "metadata": {}
  },
  {
   "cell_type": "markdown",
   "source": [
    "### Función agrega_imc"
   ],
   "metadata": {}
  },
  {
   "cell_type": "code",
   "execution_count": null,
   "source": [
    "def agrega_imc(equipos):\n",
    "    \"\"\"\n",
    "    Agrega una columna 'imc' de índices de masas corporales\n",
    "    \"\"\"\n",
    "    for equipo in equipos:\n",
    "        \n",
    "        imc = []\n",
    "        \n",
    "        for altura, peso in zip(equipo['alturas'], equipo['pesos']):\n",
    "            \n",
    "            # agrega el peso entre el cuadrado de la altura\n",
    "            imc.append(round(peso/altura**2, 1))\n",
    "            \n",
    "        equipo['imc'] = imc"
   ],
   "outputs": [],
   "metadata": {}
  },
  {
   "cell_type": "code",
   "execution_count": null,
   "source": [
    "agrega_imc(lista_de_equipos)"
   ],
   "outputs": [],
   "metadata": {}
  },
  {
   "cell_type": "code",
   "execution_count": null,
   "source": [
    "bucks"
   ],
   "outputs": [],
   "metadata": {}
  },
  {
   "cell_type": "markdown",
   "source": [
    "### Función grafica_imc"
   ],
   "metadata": {}
  },
  {
   "cell_type": "code",
   "execution_count": null,
   "source": [
    "def grafica_imc(equipos, colores, etiquetas):\r\n",
    "    \"\"\"\r\n",
    "    Grafica los índices de masas corporales de una lista de equipos.\r\n",
    "    \"\"\"\r\n",
    "    # para cada par de equipos y colores\r\n",
    "    for equipo, color in zip(equipos, colores):\r\n",
    "        plt.plot(range(len(equipo)),    # índices de los datos, desde 0 hasta número de datos - 1\r\n",
    "                 equipo['imc'],         # datos de IMC\r\n",
    "                 color = color,         # color del punto\r\n",
    "                 linestyle = '',        # sin segmentos entre puntos\r\n",
    "                 marker = 'o')          # punto\r\n",
    "\r\n",
    "    plt.title('Índices de masas corporales')\r\n",
    "    plt.xlabel('Jugadores')\r\n",
    "    plt.ylabel('IMC')\r\n",
    "    plt.legend(etiquetas)\r\n",
    "    plt.show()"
   ],
   "outputs": [],
   "metadata": {}
  },
  {
   "cell_type": "code",
   "execution_count": null,
   "source": [
    "grafica_imc(lista_de_equipos, lista_de_colores, lista_de_nombres)"
   ],
   "outputs": [],
   "metadata": {}
  },
  {
   "cell_type": "markdown",
   "source": [
    "### Promedio de IMC por equipos"
   ],
   "metadata": {}
  },
  {
   "cell_type": "code",
   "execution_count": null,
   "source": [
    "for equipo, nombre in zip(lista_de_equipos, lista_de_nombres):\r\n",
    "    print(nombre, round(np.mean(equipo['imc']), 1))"
   ],
   "outputs": [],
   "metadata": {}
  },
  {
   "cell_type": "markdown",
   "source": [
    "## 6.2 Rangos de IMC\n",
    "[Índice de masa corporal](https://medlineplus.gov/spanish/ency/article/007196.htm)"
   ],
   "metadata": {}
  },
  {
   "cell_type": "code",
   "execution_count": null,
   "source": [
    "# https://medlineplus.gov/spanish/ency/article/007196.htm\r\n",
    "# Debajo de 18.5    Por debajo del peso\r\n",
    "# 18.5 a 24.9       Saludable\r\n",
    "# 25.0 a 29.9       Con sobrepeso\r\n",
    "# 30.0 a 39.9       Obeso\r\n",
    "# Más de 40         Obesidad extrema o de alto riesgo\r\n",
    "\r\n",
    "imc = bucks['imc']\r\n",
    "print(\"Debajo del peso:\", len(imc[imc < 18.5]))\r\n",
    "print(\"Saludable:      \", len(imc[(imc >= 18.5) & (imc < 25)]))\r\n",
    "print(\"Con sobrepeso:  \", len(imc[(imc >= 25) & (imc < 30)]))\r\n",
    "print(\"Obeso:          \", len(imc[(imc >= 30) & (imc < 40)]))\r\n",
    "print(\"Alto riesgo:    \", len(imc[imc >= 40]))"
   ],
   "outputs": [],
   "metadata": {}
  },
  {
   "cell_type": "markdown",
   "source": [
    "### Función porcentajes_imc"
   ],
   "metadata": {}
  },
  {
   "cell_type": "code",
   "execution_count": null,
   "source": [
    "def porcentajes_imc(equipos, nombres):\r\n",
    "    \"\"\"\r\n",
    "    Retorna una tabla de porcentajes en cada categoría de IMC.\r\n",
    "    \"\"\"\r\n",
    "\r\n",
    "    tabla = pd.DataFrame(index = [\"Debajo del peso\",\r\n",
    "                                  \"Saludable\",\r\n",
    "                                  \"Con sobrepeso\",\r\n",
    "                                  \"Obeso\",\r\n",
    "                                  \"Alto riesgo\"])\r\n",
    "\r\n",
    "    marcas = [0, 18.5, 25, 30, 40, 1000]    # 1000 es extremo, con \r\n",
    "    \r\n",
    "    # para cada equipo y nombre\r\n",
    "    for equipo, nombre in zip(equipos, nombres):\r\n",
    "        \r\n",
    "        imc = equipo['imc']     # los valores IMC\r\n",
    "        tpc = 100 / len(imc)    # el factor de tanto por ciento \r\n",
    "        \r\n",
    "        lista = []\r\n",
    "        \r\n",
    "        # para cada índice de la lista marcas desde el primero hasta el penúltimo\r\n",
    "        for i in range(len(marcas) - 1):\r\n",
    "            \r\n",
    "            # número de elementos entre la marca actual y la siguiente\r\n",
    "            n = len(imc[(imc >= marcas[i]) & (imc < marcas[i + 1])])\r\n",
    "            \r\n",
    "            # agrega el porcentaje con dos cifras decimales\r\n",
    "            lista.append(round(n * tpc, 2))\r\n",
    "        \r\n",
    "        # columna de datos IMC del equipo\r\n",
    "        tabla[nombre] = lista\r\n",
    "        \r\n",
    "    return tabla"
   ],
   "outputs": [],
   "metadata": {}
  },
  {
   "cell_type": "code",
   "execution_count": null,
   "source": [
    "porcentajes_imc(lista_de_equipos, lista_de_nombres)"
   ],
   "outputs": [],
   "metadata": {}
  },
  {
   "cell_type": "markdown",
   "source": [
    "### Tabla transpuesta"
   ],
   "metadata": {}
  },
  {
   "cell_type": "code",
   "execution_count": null,
   "source": [
    "porcentajes_imc(lista_de_equipos, lista_de_nombres).T"
   ],
   "outputs": [],
   "metadata": {}
  },
  {
   "cell_type": "markdown",
   "source": [
    "## 6.3 Barras apiladas"
   ],
   "metadata": {}
  },
  {
   "cell_type": "code",
   "execution_count": null,
   "source": [
    "def barras_imc(tabla, nombres, dimensiones = (8, 4), anchura = 0.8):\r\n",
    "    \"\"\"\r\n",
    "    Muestra barras apiladas de datos de porcentajes de jugadores\r\n",
    "    de acuerdo a condiciones saludables, con sobrepeso, obesos y en alto riesgo.\r\n",
    "    Fuente: medlineplus.gov/spanish/ency/article/007196.htm\r\n",
    "    \"\"\"\r\n",
    "    saludables = tabla['Saludable']\r\n",
    "    sobrepesos = tabla['Con sobrepeso']\r\n",
    "    obesos = tabla['Obeso']\r\n",
    "    enriesgos = tabla['Alto riesgo']\r\n",
    "\r\n",
    "    indices = np.arange(len(tabla))\r\n",
    "    \r\n",
    "    plt.figure(figsize=dimensiones)\r\n",
    "    \r\n",
    "    plt.bar(indices, saludables, anchura)\r\n",
    "    plt.bar(indices, sobrepesos, anchura, bottom=saludables)\r\n",
    "    plt.bar(indices, obesos,     anchura, bottom=saludables + sobrepesos)\r\n",
    "    plt.bar(indices, enriesgos,  anchura, bottom=saludables + sobrepesos + obesos)\r\n",
    "    \r\n",
    "    plt.xlabel('Equipos')\r\n",
    "    plt.ylabel('Valores')\r\n",
    "    plt.title('Condiciones de IMC, medlineplus.gov/spanish/ency/article/007196.htm')\r\n",
    "    plt.xticks(indices, nombres)\r\n",
    "    plt.legend(['Saludables', 'Sobrepesos', 'Obesos', 'Alto riesgo'], loc='lower center')\r\n",
    "\r\n",
    "    plt.show()"
   ],
   "outputs": [],
   "metadata": {}
  },
  {
   "cell_type": "code",
   "execution_count": null,
   "source": [
    "tabla = porcentajes_imc(lista_de_equipos, lista_de_nombres).T\r\n",
    "tabla"
   ],
   "outputs": [],
   "metadata": {}
  },
  {
   "cell_type": "code",
   "execution_count": null,
   "source": [
    "barras_imc(tabla, lista_de_nombres)"
   ],
   "outputs": [],
   "metadata": {}
  },
  {
   "cell_type": "markdown",
   "source": [
    "## 6.4 Alturas y pesos de deportistas de fútbol, fútbol americano y sumo\n",
    "Datos extraídos de las páginas de los clubes, Wikipedia y de la página oficial de sumo"
   ],
   "metadata": {}
  },
  {
   "cell_type": "code",
   "execution_count": null,
   "source": [
    "# Fútbol \r\n",
    "\r\n",
    "barcelona = pd.DataFrame()\r\n",
    "barcelona['alturas'] = [1.87, 1.90, 1.77, 1.94, 1.86, 1.70, 1.78, 1.82, 1.84, 1.84,\r\n",
    "                        1.89, 1.71, 1.80, 1.80, 1.82, 1.70, 1.78, 1.76, 1.77]\r\n",
    "barcelona['pesos'] = [85, 84, 67, 85, 81, 68, 68, 75, 78, 78,\r\n",
    "                      76, 73, 74, 75, 86, 72, 67, 73, 73]\r\n",
    "\r\n",
    "bayern = pd.DataFrame()\r\n",
    "bayern['alturas'] = [1.93, 1.92, 1.92, 1.93, 1.89, 1.76, 1.80, 1.82, 1.92, 1.86, \r\n",
    "                     1.95, 1.76, 1.81, 1.81, 1.89, 1.81, 1.72, 1.92, 1.74, 1.79, \r\n",
    "                     1.86, 1.75, 1.84, 1.86, 1.84]\r\n",
    "bayern['pesos'] = [92, 87, 84, 84, 84, 73, 78, 76, 90, 76,\r\n",
    "                   97, 66, 81, 72, 76, 74, 68, 86, 70, 75,\r\n",
    "                   75, 75, 78, 80, 80]\r\n",
    "\r\n",
    "juventus = pd.DataFrame()\r\n",
    "juventus['alturas'] = [1.92, 1.96, 1.92, 1.90, 1.84, 1.89, 1.83, 1.87, 1.89, 1.82, \r\n",
    "                       1.89, 1.78, 1.87, 1.86, 1.79, 1.77]\r\n",
    "juventus['pesos'] = [91, 90, 89, 85, 80, 86, 74, 78, 71, 77,\r\n",
    "                     80, 72, 83, 75, 71, 73]\r\n",
    "\r\n",
    "madrid = pd.DataFrame()\r\n",
    "madrid['alturas'] = [1.95, 1.99, 1.73, 1.86, 1.84, 1.91, 1.80, 1.74, 1.80, 1.83,\r\n",
    "                     1.72, 1.85, 1.82, 1.80, 1.76, 1.75, 1.85, 1.85, 1.73, 1.82, \r\n",
    "                     1.82, 1.71, 1.80, 1.76, 1.74]\r\n",
    "madrid['pesos'] = [94, 96, 73.5, 78, 82.2, 81.2, 76.3, 75, 73, 76, 66.2, 84,\r\n",
    "                   78, 75, 79, 74, 81.2, 81.8, 70.5, 85, 76, 68, 76, 73, 64]\r\n",
    "\r\n",
    "# Fútbol americano\r\n",
    "\r\n",
    "saints = pd.DataFrame()\r\n",
    "saints['alturas'] = [1.91, 1.93, 1.85, 1.83, 1.78, 1.85, 1.85, 1.91, 1.96, 1.93, \r\n",
    "                     1.96, 1.91, 1.78, 1.96, 1.96, 1.88, 1.88, 1.8, 1.93, 1.8, \r\n",
    "                     1.85, 1.91, 1.88, 1.98, 2.01, 1.96, 1.83, 1.93, 1.93, 1.78, \r\n",
    "                     1.91, 1.93, 1.83, 1.78, 1.93, 1.93, 1.8, 1.96, 1.7, 1.83, \r\n",
    "                     1.96, 1.78, 1.93, 1.8, 1.93, 1.91, 1.83, 1.78, 1.96, 2.03, \r\n",
    "                     1.93, 1.91, 1.88, 1.96, 1.93, 1.68, 1.85, 1.91, 1.85, 1.93, \r\n",
    "                     1.93, 1.83, 1.96, 1.88, 1.8, 1.85, 1.91, 1.85, 1.91, 1.91, \r\n",
    "                     1.85, 1.88, 1.98, 1.98, 2.01, 1.96, 1.96, 1.91, 1.85, 1.88, \r\n",
    "                     1.93, 1.83, 1.88, 1.83, 1.91, 1.83, 1.88, 1.96, 1.91, 1.91, \r\n",
    "                     1.88]\r\n",
    "saints['pesos'] = [115.7, 104.8, 88.5, 88.9, 83.9, 81.6, 101.2, 136.1, 114.8, 136.1,\r\n",
    "                   141.1, 96.2, 93.0, 106.6, 138.3, 138.3, 95.3, 81.6, 144.7, 86.6, \r\n",
    "                   106.1, 131.5, 138.3, 142.4, 143.3, 142.9, 107.0, 136.1, 148.3, 85.7,\r\n",
    "                   104.3, 106.6, 98.0, 83.9, 142.4, 155.6, 83.5, 124.7, 76.2, 87.1, \r\n",
    "                   145.1, 97.5, 130.2, 101.6, 104.8, 90.7, 92.5, 86.2, 140.6, 133.8, \r\n",
    "                   102.1, 98.4, 100.2, 113.4, 122.5, 77.1, 90.7, 100.7, 93.4, 108.9, \r\n",
    "                   152.0, 91.6, 118.4, 88.9, 95.3, 98.9, 108.9, 88.5, 127.0, 137.4, \r\n",
    "                   102.1, 112.5, 120.2, 136.1, 116.1, 115.2, 141.1, 115.7, 88.5, 92.5, \r\n",
    "                   99.8, 108.9, 145.1, 94.8, 108.9, 99.3, 104.8, 137.9, 109.3, 108.4, \r\n",
    "                   113.9]\r\n",
    "\r\n",
    "packers = pd.DataFrame()\r\n",
    "packers['alturas'] = [1.88, 1.91, 1.83, 1.88, 1.8, 1.85, 1.98, 1.93, 1.96, 1.96, \r\n",
    "                      1.88, 1.88, 1.91, 1.88, 1.85, 1.8, 1.83, 1.93, 1.96, 1.93, \r\n",
    "                      1.96, 1.8, 1.88, 1.98, 1.96, 1.8, 1.85, 1.93, 1.88, 1.8, \r\n",
    "                      1.91, 1.96, 1.91, 2.01, 1.91, 1.91, 1.96, 1.98, 1.91, 1.93, \r\n",
    "                      1.91, 1.91, 1.96, 1.98, 1.98, 1.96, 1.91, 1.93, 1.88, 1.91, \r\n",
    "                      1.91, 1.85, 1.75, 1.98, 1.96, 1.83, 1.83, 1.93, 1.83, 1.8, \r\n",
    "                      1.96, 1.93, 1.96, 1.78, 1.85, 1.83, 1.91, 1.88, 1.93, 1.8, \r\n",
    "                      1.98, 1.91, 1.91, 1.98, 1.93, 1.83, 1.83, 1.83, 1.96, 1.88, \r\n",
    "                      1.93, 1.83, 1.83, 1.78, 1.93, 1.85, 1.93, 1.96, 1.88, 1.85, \r\n",
    "                      1.91]\r\n",
    "packers['pesos'] = [136.1, 110.7, 96.6, 87.5, 96.2, 109.3, 142.9, 93.4, 140.6, 107.5, \r\n",
    "                    98.4, 98.0, 147.0, 88.9, 109.3, 85.7, 96.2, 143.3, 97.1, 123.4, \r\n",
    "                    120.2, 84.4, 91.6, 94.3, 111.6, 89.8, 84.8, 139.3, 102.1, 84.4, \r\n",
    "                    108.0, 130.2, 142.0, 142.4, 107.5, 108.9, 139.7, 134.3, 102.1, 99.3, \r\n",
    "                    130.2, 136.5, 140.2, 121.1, 136.5, 103.0, 142.0, 94.8, 106.6, 90.7, \r\n",
    "                    130.6, 115.7, 94.3, 136.5, 141.1, 88.9, 88.9, 134.3, 92.5, 89.4, \r\n",
    "                    125.6, 116.6, 103.9, 87.1, 84.8, 112.0, 89.8, 108.0, 108.9, 102.1, \r\n",
    "                    139.3, 142.4, 105.7, 135.2, 105.2, 103.4, 92.5, 90.7, 113.4, 103.9, \r\n",
    "                    140.6, 86.2, 97.1, 88.9, 137.9, 97.5, 113.9, 117.0, 137.9, 93.9, \r\n",
    "                    109.3]\r\n",
    "\r\n",
    "ravens = pd.DataFrame()\r\n",
    "ravens['alturas'] = [1.91, 1.96, 1.93, 1.91, 1.85, 1.93, 1.91, 1.91, 1.96, 1.75, \r\n",
    "                     1.85, 1.75, 1.78, 1.78, 1.98, 1.8, 1.8, 1.88, 1.91, 1.96, \r\n",
    "                     1.96, 1.88, 1.88, 1.8, 1.91, 1.83, 1.85, 1.8, 1.98, 1.93, \r\n",
    "                     1.96, 1.96, 1.83, 1.96, 1.91, 1.88, 1.8, 1.85, 1.8, 1.93, \r\n",
    "                     1.83, 1.91, 1.85, 1.85, 1.91, 1.8, 1.85, 1.91, 1.88, 1.75, \r\n",
    "                     1.85, 1.83, 2.01, 1.78, 1.83, 1.91, 1.88, 1.83, 1.96, 1.96, \r\n",
    "                     1.88, 1.85, 1.98, 1.85, 1.8, 1.75, 1.78, 1.96, 1.8, 1.88, \r\n",
    "                     1.96, 1.85, 1.93, 1.91, 1.83, 2.03, 2.03, 1.75, 1.98, 1.96, \r\n",
    "                     1.91, 1.93, 1.93, 1.91, 1.73, 1.88, 1.8, 1.96, 1.91, 1.98, \r\n",
    "                     1.96, 1.96, 1.85]\r\n",
    "ravens['pesos'] = [138.3, 129.3, 108.0, 114.3, 152.4, 93.4, 108.4, 138.3, 130.2, 85.3, \r\n",
    "                   83.0, 83.9, 91.6, 95.3, 142.9, 93.0, 88.9, 95.3, 142.0, 95.3, \r\n",
    "                   112.9, 108.9, 118.8, 95.3, 141.1, 104.3, 103.0, 87.5, 141.1, 140.6, \r\n",
    "                   146.1, 156.5, 88.5, 115.7, 89.4, 112.5, 86.6, 90.7, 83.0, 139.7, \r\n",
    "                   91.6, 120.2, 95.3, 87.1, 132.9, 93.9, 100.7, 118.4, 96.2, 97.5, \r\n",
    "                   93.0, 89.4, 149.7, 90.7, 79.4, 112.0, 96.6, 105.2, 155.1, 124.7, \r\n",
    "                   158.8, 95.3, 140.6, 108.0, 95.3, 82.1, 96.2, 147.4, 93.9, 108.9, \r\n",
    "                   136.1, 142.9, 106.6, 142.0, 93.0, 136.1, 156.5, 77.1, 114.3, 143.3,\r\n",
    "                   143.8, 122.5, 99.8, 109.8, 82.6, 103.9, 80.7, 116.1, 108.4, 113.4, \r\n",
    "                   115.2, 157.4, 89.4]\r\n",
    "\r\n",
    "patriots = pd.DataFrame()\r\n",
    "patriots['alturas'] = [1.83, 1.88, 1.88, 1.96, 1.91, 1.91, 1.78, 1.88, 1.91, 1.93, \r\n",
    "                       1.96, 1.78, 1.68, 1.91, 1.85, 1.83, 1.88, 1.88, 1.75, 1.75, \r\n",
    "                       1.91, 1.96, 1.73, 1.83, 1.8, 1.8, 1.91, 1.83, 1.96, 1.93, \r\n",
    "                       1.8, 1.88, 1.93, 1.8, 1.78, 1.85, 1.83, 1.91, 1.88, 1.93, \r\n",
    "                       1.78, 1.91, 1.91, 1.85, 1.96, 1.88, 1.96, 1.78, 1.93, 1.8, \r\n",
    "                       1.8, 1.88, 1.93, 1.85, 1.88, 1.96, 1.93, 1.78, 1.88, 1.88, \r\n",
    "                       1.98, 1.91, 1.91, 1.96, 1.91, 1.93, 1.96, 1.75, 1.96, 1.91, \r\n",
    "                       1.78, 1.75, 1.8, 1.96, 1.83, 1.93, 1.88, 1.88, 1.91, 1.91, \r\n",
    "                       1.91, 1.91]\r\n",
    "patriots['pesos'] = [86.2, 140.6, 132.0, 124.7, 113.4, 96.2, 93.0, 138.3, 102.5, 138.3, \r\n",
    "                     139.7, 78.9, 83.9, 97.5, 98.9, 93.0, 117.9, 95.3, 87.1, 86.2, \r\n",
    "                     104.3, 113.4, 80.7, 88.9, 89.8, 95.3, 158.8, 86.2, 111.1, 120.2, \r\n",
    "                     97.5, 90.7, 101.6, 88.5, 88.5, 140.6, 112.5, 98.0, 99.8, 113.9, \r\n",
    "                     86.2, 115.7, 117.5, 89.8, 115.7, 98.0, 138.3, 78.9, 102.1, 106.1, \r\n",
    "                     96.6, 106.6, 142.9, 91.6, 92.1, 140.6, 152.0, 89.8, 99.8, 92.1, \r\n",
    "                     141.1, 136.1, 119.3, 132.0, 111.1, 117.9, 140.6, 81.6, 136.1, 117.9, \r\n",
    "                     97.5, 83.9, 93.0, 113.4, 90.7, 115.7, 115.7, 93.0, 116.6, 136.1, \r\n",
    "                     148.3, 90.7]\r\n",
    "\r\n",
    "# Sumo\r\n",
    "\r\n",
    "sumo = pd.DataFrame()\r\n",
    "sumo['alturas'] = [1.92, 1.78, 1.82, 1.75, 1.78, 1.95, 1.91, 1.91, 1.85, 1.84,\r\n",
    "                   1.95, 1.93, 1.92, 1.82, 1.85, 1.81, 1.91, 1.89, 1.78, 1.69,\r\n",
    "                   1.85, 1.69, 1.87, 1.84, 1.78, 1.79, 1.85, 1.85, 1.88, 1.84,\r\n",
    "                   1.80, 1.92, 1.87, 1.82, 1.90, 1.89, 1.81, 1.83]\r\n",
    "sumo['pesos'] = [201, 133, 124, 111, 161, 201, 173, 165, 170, 140,\r\n",
    "                 171, 163, 194, 188, 157, 178, 153, 169, 130, 120,\r\n",
    "                 175,  96, 172, 162, 155, 190, 168, 135, 172, 165, \r\n",
    "                 175, 180, 152, 164, 160, 169, 188, 150]"
   ],
   "outputs": [],
   "metadata": {}
  },
  {
   "cell_type": "markdown",
   "source": [
    "### Listas de equipos y nombres"
   ],
   "metadata": {}
  },
  {
   "cell_type": "code",
   "execution_count": null,
   "source": [
    "equipos = [bucks, clippers, lakers, raptors,\n",
    "           barcelona, bayern, juventus, madrid,\n",
    "           packers, patriots, ravens, saints,\n",
    "           sumo]\n",
    "\n",
    "nombres = ['Bucks', 'Clippers', 'Lakers', 'Raptors', \n",
    "           'Barcelona', 'Bayern', 'Juventus', 'Madrid',\n",
    "           'Packers', 'Patriots', 'Ravens', 'Saints',\n",
    "           'Sumo']"
   ],
   "outputs": [],
   "metadata": {}
  },
  {
   "cell_type": "markdown",
   "source": [
    "## 6.5 Gráfica de pesos versus alturas por deporte"
   ],
   "metadata": {}
  },
  {
   "cell_type": "code",
   "execution_count": null,
   "source": [
    "listas = [[bucks, clippers, lakers, raptors],\n",
    "          [barcelona, bayern, juventus, madrid],\n",
    "          [packers, patriots, ravens, saints],\n",
    "          [sumo]]\n",
    "\n",
    "colores = ['bo', 'go', 'ro', 'co']\n",
    "\n",
    "for indice, lista in enumerate(listas): # crea pares de índices y valores\n",
    "    \n",
    "    alturas = []\n",
    "    pesos = []\n",
    "    \n",
    "    # compone una lista por deporte con los elementos de las listas de equipos\n",
    "    for equipo in lista:\n",
    "        alturas.extend(equipo['alturas'])\n",
    "        pesos.extend(equipo['pesos'])\n",
    "    \n",
    "    plt.plot(alturas, pesos, colores[indice])\n",
    "\n",
    "plt.title('Pesos versus alturas por deportes')\n",
    "plt.xlabel('Alturas')\n",
    "plt.ylabel('Pesos')\n",
    "plt.legend(['Baloncesto', 'Fútbol', 'Fútbol americano', 'Sumo'])\n",
    "\n",
    "plt.show()"
   ],
   "outputs": [],
   "metadata": {}
  },
  {
   "cell_type": "markdown",
   "source": [
    "## 6.6 Comparaciones de cajas con bigotes"
   ],
   "metadata": {}
  },
  {
   "cell_type": "code",
   "execution_count": null,
   "source": [
    "def cajas(equipos, atributo, nombres, dimensiones=(8, 4)):\n",
    "    \"\"\"\n",
    "    Muestra cajas con bigotes de un atributo de equipos.\n",
    "    \"\"\"\n",
    "    lista = []\n",
    "    for equipo in equipos:\n",
    "        lista.append(equipo[atributo])\n",
    "\n",
    "    plt.figure(figsize=dimensiones)\n",
    "        \n",
    "    plt.boxplot(lista)\n",
    "    plt.xticks(range(1, len(nombres) + 1), nombres)\n",
    "    plt.title(atributo.capitalize())\n",
    "    plt.grid()\n",
    "    plt.show()"
   ],
   "outputs": [],
   "metadata": {}
  },
  {
   "cell_type": "code",
   "execution_count": null,
   "source": [
    "cajas(equipos, 'alturas', nombres, (16, 4))"
   ],
   "outputs": [],
   "metadata": {}
  },
  {
   "cell_type": "code",
   "execution_count": null,
   "source": [
    "cajas(equipos, 'pesos', nombres, (16, 4))"
   ],
   "outputs": [],
   "metadata": {}
  },
  {
   "cell_type": "code",
   "execution_count": null,
   "source": [
    "agrega_imc(equipos)\n",
    "cajas(equipos, 'imc', nombres, (16, 4))"
   ],
   "outputs": [],
   "metadata": {}
  },
  {
   "cell_type": "code",
   "execution_count": null,
   "source": [
    "tabla = porcentajes_imc(equipos, nombres).T\n",
    "tabla"
   ],
   "outputs": [],
   "metadata": {}
  },
  {
   "cell_type": "code",
   "execution_count": null,
   "source": [
    "barras_imc(tabla, nombres, dimensiones=(16, 4))"
   ],
   "outputs": [],
   "metadata": {}
  },
  {
   "cell_type": "markdown",
   "source": [
    "## Más información\n",
    "Puedes conseguir ayuda en inglés escribiendo los siguientes textos en una celda seguidos de ? o como argumentos de **help()**:\n",
    "```python\n",
    "list.extend\n",
    "\n",
    "pd.DataFrame.T\n",
    "\n",
    "plt.figure\n",
    "\n",
    "enumerate\n",
    "```"
   ],
   "metadata": {}
  },
  {
   "cell_type": "markdown",
   "source": [
    "<a id='tarea7'></a>\n",
    "<br><img src=\"linea.png\">\n",
    "# [Tarea 7](#inicio)\n",
    "# Almacenando y leyendo archivos\n",
    "<br><img src=\"linea.png\"><br>"
   ],
   "metadata": {}
  },
  {
   "cell_type": "markdown",
   "source": [
    "## 7.1 Guardado y leyendo archivos "
   ],
   "metadata": {}
  },
  {
   "cell_type": "code",
   "execution_count": null,
   "source": [
    "sumo"
   ],
   "outputs": [],
   "metadata": {}
  },
  {
   "cell_type": "markdown",
   "source": [
    "### Guardar datos en archivos CSV "
   ],
   "metadata": {}
  },
  {
   "cell_type": "code",
   "execution_count": null,
   "source": [
    "# guarda el archivo sin incluir la columna de índices\n",
    "sumo.to_csv('sumo.csv', index = False)"
   ],
   "outputs": [],
   "metadata": {}
  },
  {
   "cell_type": "markdown",
   "source": [
    "### Leer datos desde archivos CSV"
   ],
   "metadata": {}
  },
  {
   "cell_type": "code",
   "execution_count": null,
   "source": [
    "archivo_sumo = pd.read_csv('sumo.csv')\n",
    "archivo_sumo"
   ],
   "outputs": [],
   "metadata": {}
  },
  {
   "cell_type": "markdown",
   "source": [
    "### Conservar índices de tablas"
   ],
   "metadata": {}
  },
  {
   "cell_type": "code",
   "execution_count": null,
   "source": [
    "tabla_sumo = tabla_de_frecuencias(archivo_sumo['pesos'], 95, 205, 10, 'pesos')\n",
    "tabla_sumo"
   ],
   "outputs": [],
   "metadata": {}
  },
  {
   "cell_type": "code",
   "execution_count": null,
   "source": [
    "# guarda el archivo incluyendo índices y columnas\n",
    "tabla_sumo.to_csv('tabla_sumo.csv')"
   ],
   "outputs": [],
   "metadata": {}
  },
  {
   "cell_type": "code",
   "execution_count": null,
   "source": [
    "pd.read_csv(\"tabla_sumo.csv\")"
   ],
   "outputs": [],
   "metadata": {}
  },
  {
   "cell_type": "code",
   "execution_count": null,
   "source": [
    "# fija el índice con la primera columna de datos\n",
    "tabla = pd.read_csv(\"tabla_sumo.csv\", index_col = 0)\n",
    "tabla"
   ],
   "outputs": [],
   "metadata": {}
  },
  {
   "cell_type": "markdown",
   "source": [
    "## 7.2 Descargando datos de Internet"
   ],
   "metadata": {}
  },
  {
   "cell_type": "code",
   "execution_count": null,
   "source": [
    "# NCD Risk Factor Collaboration (NCD-RisC) , http://ncdrisc.org/\n",
    "bmi = pd.read_csv(\"http://ncdrisc.org/downloads/bmi/NCD_RisC_Lancet_2017_BMI_age_standardised_world.csv\",\n",
    "                 engine='python')  # método para formatear los datos\n",
    "\n",
    "# primeras cinco filas de datos\n",
    "bmi.head()"
   ],
   "outputs": [],
   "metadata": {}
  },
  {
   "cell_type": "code",
   "execution_count": null,
   "source": [
    "# una nueva tabla con tres columnas de datos\n",
    "bmi = bmi[['Sex', 'Year', 'Mean BMI']]\n",
    "\n",
    "# primeras cinco filas\n",
    "bmi.head()"
   ],
   "outputs": [],
   "metadata": {}
  },
  {
   "cell_type": "code",
   "execution_count": null,
   "source": [
    "# últimas cinco filas\n",
    "bmi.tail()"
   ],
   "outputs": [],
   "metadata": {}
  },
  {
   "cell_type": "code",
   "execution_count": null,
   "source": [
    "# cuenta los datos por género\n",
    "bmi.groupby('Sex').count()"
   ],
   "outputs": [],
   "metadata": {}
  },
  {
   "cell_type": "code",
   "execution_count": null,
   "source": [
    "# describe la tabla para datos numéricos y nominales\n",
    "bmi.describe(include='all')"
   ],
   "outputs": [],
   "metadata": {}
  },
  {
   "cell_type": "markdown",
   "source": [
    "## 7.3 Promedios mundiales de IMC de hombres y mujeres"
   ],
   "metadata": {}
  },
  {
   "cell_type": "code",
   "execution_count": null,
   "source": [
    "# dimensiones de la figura\n",
    "plt.figure(figsize=(12, 4))\n",
    "\n",
    "# valores promedios de IMC desde 1975 hasta 2016\n",
    "\n",
    "hombres = bmi[bmi['Sex'] == 'Men']['Mean BMI']\n",
    "mujeres = bmi[bmi['Sex'] == 'Women']['Mean BMI']\n",
    "\n",
    "plt.plot(range(1975, 2017), hombres, 'r')\n",
    "plt.plot(range(1975, 2017), mujeres, 'b')\n",
    "\n",
    "# marcas cada tres años y marca final de 2016\n",
    "plt.xticks(list(range(1975, 2017, 3)) + [2016])\n",
    "plt.xlim(1975, 2016)\n",
    "\n",
    "plt.legend(['Hombres', 'Mujeres'])\n",
    "\n",
    "plt.title('Promedios mundiales anuales de IMC de mujeres y hombres, http://ncdrisc.org')\n",
    "plt.xlabel('Años')\n",
    "plt.ylabel('Promedios IMC')\n",
    "plt.grid()\n",
    "plt.show()"
   ],
   "outputs": [],
   "metadata": {}
  },
  {
   "cell_type": "markdown",
   "source": [
    "## 7.4 Comparaciones de IMC entre países"
   ],
   "metadata": {}
  },
  {
   "cell_type": "code",
   "execution_count": null,
   "source": [
    "def linea_de_tiempo_de_imc(un_pais, otro_pais, paisA=\"\", paisB=\"\"):\n",
    "    \"\"\"\n",
    "    Línea de tiempo de promedios de índices de masas corporales de dos países\n",
    "    entre 1975 y 2016. Fuente: http://ncdrisc.org\n",
    "    \"\"\"\n",
    "    plt.figure(figsize=(12, 4))\n",
    "    ticks = range(1975, 2017)\n",
    "\n",
    "    color = ['r', 'b', 'g', 'y']\n",
    "    indice = 0\n",
    "\n",
    "    for pais in [un_pais, otro_pais]:\n",
    "    \n",
    "        # para obtener el URL base se pulsa click derecho en el botón \n",
    "        # Download de la página de descarga de los datos y luego se copia el enlace\n",
    "        url = \"http://ncdrisc.org/downloads/bmi/adult_country/NCD_RisC_Lancet_2017_BMI_age_standardised_\"\n",
    "        \n",
    "        # agrega el nombre del país reemplazando espacios por %20 para formar un enlace válido,\n",
    "        # y luego la extensión .csv\n",
    "        url += pais.replace(\" \", \"%20\") + \".csv\"\n",
    "        \n",
    "        # lee el archivo en el objeto imc\n",
    "        imc = pd.read_csv(url, engine='python')\n",
    "        \n",
    "        # toma los promedios anuales de imc de hombres y mujeres\n",
    "        hombres = imc[imc['Sex'] == 'Men']['Mean BMI']\n",
    "        mujeres = imc[imc['Sex'] == 'Women']['Mean BMI']\n",
    "        \n",
    "        # grafica los datos, con los colores indizados de la lista color\n",
    "        plt.plot(ticks, hombres, color[2*indice])\n",
    "        plt.plot(ticks, mujeres, color[2*indice + 1])\n",
    "        \n",
    "        indice = indice + 1\n",
    "\n",
    "    # marcas desde 1975 hasta antes de 2017 de 3 en 3, y marca de 2016 final\n",
    "    plt.xticks(list(range(1975, 2017, 3)) + [2016])\n",
    "    plt.xlim(1975, 2016)\n",
    "\n",
    "    # si el nombre paisA está vacío se utiliza el primer nombre de país\n",
    "    if paisA == \"\":\n",
    "        paisA = un_pais\n",
    "\n",
    "    # si el nombre paisB está vacío se utiliza el segundo nombre de país\n",
    "    if paisB == \"\":\n",
    "        paisB = otro_pais\n",
    "    \n",
    "    # los identificadores de países y géneros\n",
    "    plt.legend(['Hombres de ' + paisA, 'Mujeres de ' + paisA,\n",
    "                'Hombres de ' + paisB, 'Mujeres de ' + paisB])\n",
    "\n",
    "    plt.title('(http://ncdrisc.org) Promedios anuales IMC de mujeres y hombres de ' + paisA + ' y ' + paisB)\n",
    "    \n",
    "    plt.xlabel('Años')\n",
    "    plt.ylabel('Promedios de IMC')\n",
    "    plt.grid()\n",
    "    plt.show()"
   ],
   "outputs": [],
   "metadata": {}
  },
  {
   "cell_type": "markdown",
   "source": [
    "#### Nombres de países\n",
    "Afghanistan, Albania, Algeria, American Samoa, Andorra, Angola, Antigua and Barbuda, Argentina, Armenia, Australia, Austria, Azerbaijan, Bahamas, Bahrain, Bangladesh, Barbados, Belarus, Belgium, Belize, Benin, Bermuda, Bhutan, Bolivia, Bosnia and Herzegovina, Botswana, Brazil, Brunei Darussalam, Bulgaria, Burkina Faso, Burundi, Cabo Verde, Cambodia, Cameroon, Canada, Central African Republic, Chad, Chile, China, China (Hong Kong SAR), Colombia, Comoros, Congo, Cook Islands, Costa Rica, Cote d'Ivoire, Croatia, Cuba, Cyprus, Czech Republic, DR Congo, Denmark, Djibouti, Dominica, Dominican Republic, Ecuador, Egypt, El Salvador, Equatorial Guinea, Eritrea, Estonia, Ethiopia, Fiji, Finland, France, French Polynesia, Gabon, Gambia, Georgia, Germany, Ghana, Greece, Greenland, Grenada, Guatemala, Guinea, Guinea Bissau, Guyana, Haiti, Honduras, Hungary, Iceland, India, Indonesia, Iran, Iraq, Ireland, Israel, Italy, Jamaica, Japan, Jordan, Kazakhstan, Kenya, Kiribati, Kuwait, Kyrgyzstan, Lao PDR, Latvia, Lebanon, Lesotho, Liberia, Libya, Lithuania, Luxembourg, Macedonia (TFYR), Madagascar, Malawi, Malaysia, Maldives, Mali, Malta, Marshall Islands, Mauritania, Mauritius, Mexico, Micronesia (Federated States of), Moldova, Mongolia, Montenegro, Morocco, Mozambique, Myanmar, Namibia, Nauru, Nepal, Netherlands, New Zealand, Nicaragua, Niger, Nigeria, Niue, North Korea, Norway, Occupied Palestinian Territory, Oman, Pakistan, Palau, Panama, Papua New Guinea, Paraguay, Peru, Philippines, Poland, Portugal, Puerto Rico, Qatar, Romania, Russian Federation, Rwanda, Saint Kitts and Nevis, Saint Lucia, Saint Vincent and the Grenadines, Samoa, Sao Tome and Principe, Saudi Arabia, Senegal, Serbia, Seychelles, Sierra Leone, Singapore, Slovakia, Slovenia, Solomon Islands, Somalia, South Africa, South Korea, Spain, Sri Lanka, Sudan, Suriname, Swaziland, Sweden, Switzerland, Syrian Arab Republic, Taiwan, Tajikistan, Tanzania, Thailand, Timor-Leste, Togo, Tokelau, Tonga, Trinidad and Tobago, Tunisia, Turkey, Turkmenistan, Tuvalu, Uganda, Ukraine, United Arab Emirates, United Kingdom, United States of America, Uruguay, Uzbekistan, Vanuatu, Venezuela, Viet Nam, Yemen, Zambia, Zimbabwe"
   ],
   "metadata": {}
  },
  {
   "cell_type": "code",
   "execution_count": null,
   "source": [
    "linea_de_tiempo_de_imc('United States of America', 'Russian Federation', 'Estados Unidos', 'Rusia')"
   ],
   "outputs": [],
   "metadata": {}
  },
  {
   "cell_type": "markdown",
   "source": [
    "## Más información\n",
    "Puedes conseguir ayuda en inglés escribiendo los siguientes textos en una celda seguidos de ? o como argumentos de **help()**:\n",
    "```python\n",
    "pd.DataFrame.to_csv, pd.DataFrame.describe, pd.DataFrame.head, pd.DataFrame.tail\n",
    "pd.read_csv, pd.Series.describe, pd.Series.head, pd.Series.tail\n",
    "\n",
    "plt.figure, plt.xlim\n",
    "\n",
    "str.replace\n",
    "```"
   ],
   "metadata": {}
  },
  {
   "cell_type": "code",
   "execution_count": null,
   "source": [],
   "outputs": [],
   "metadata": {}
  }
 ],
 "metadata": {
  "kernelspec": {
   "name": "python3",
   "display_name": "Python 3.8.5 64-bit ('base': conda)"
  },
  "language_info": {
   "codemirror_mode": {
    "name": "ipython",
    "version": 3
   },
   "file_extension": ".py",
   "mimetype": "text/x-python",
   "name": "python",
   "nbconvert_exporter": "python",
   "pygments_lexer": "ipython3",
   "version": "3.8.5"
  },
  "interpreter": {
   "hash": "450b70256ba18f2fad380a6ccf06002bc4e317647e1bec1e2e920143a5713377"
  }
 },
 "nbformat": 4,
 "nbformat_minor": 2
}